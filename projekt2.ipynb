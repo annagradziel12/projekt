{
  "nbformat": 4,
  "nbformat_minor": 0,
  "metadata": {
    "colab": {
      "name": "projekt2.ipynb",
      "provenance": [],
      "collapsed_sections": [],
      "toc_visible": true,
      "authorship_tag": "ABX9TyMN0HeZH29SEzqRU+a38QcP"
    },
    "kernelspec": {
      "name": "python3",
      "display_name": "Python 3"
    }
  },
  "cells": [
    {
      "cell_type": "markdown",
      "metadata": {
        "id": "jx6ZAMUmErIS"
      },
      "source": [
        "# **Assessment of the ability to repay loans to small and medium-sized businesses**"
      ]
    },
    {
      "cell_type": "markdown",
      "metadata": {
        "id": "qfIi7i-HRhKU"
      },
      "source": [
        "The objective of this project is find optimal model to decide whether an SBA loan should be approved.\r\n",
        "Small Business Administration (SBA) acts much like an insurance provider to reduce the risk for a bank by taking on some of the risk through guaranteeing a portion of the loan. In the case that a loan goes into default, SBA then covers the amount they guaranteed.\r\n",
        "\r\n",
        "In Poland, there is a similar program offered by BGK, implemented to improve access to financing for companies from the SME sector and to provide an offer of widely available guarantees supporting the development of enterprises.\r\n",
        "\r\n",
        "I was a credit analyst in a bank for three years where I provided loans to small and medium-sized businesses.\r\n",
        "\r\n",
        "I liked the fact that I was able to delve into the financial statements of companies from various industries, which were often family companies. In this work, I found out what small and medium-sized enterprises face and what features a good borrower has.\r\n",
        "\r\n",
        "# DATASET USED\r\n",
        "\r\n",
        "The dataset is from the U.S. Small Business Administration (SBA). \r\n",
        "\r\n",
        "The full set is available here: https://www.kaggle.com/mirbektoktogaraev/should-this-loan-be-approved-or-denied\r\n",
        "\r\n",
        "\r\n"
      ]
    },
    {
      "cell_type": "markdown",
      "metadata": {
        "id": "sdIg_pILMln0"
      },
      "source": [
        "# Imports\r\n",
        "I am using a typical data science stack: numpy, pandas, sklearn, matplotlib."
      ]
    },
    {
      "cell_type": "code",
      "metadata": {
        "id": "PSrvFHLaMoHM"
      },
      "source": [
        "# numpy and pandas for data manipulation\r\n",
        "import numpy as np\r\n",
        "import pandas as pd \r\n",
        "\r\n",
        "# sklearn preprocessing for dealing with categorical variables\r\n",
        "from sklearn.preprocessing import LabelEncoder\r\n",
        "\r\n",
        "# matplotlib and seaborn for plotting\r\n",
        "import matplotlib.pyplot as plt\r\n",
        "import seaborn as sns\r\n",
        "\r\n",
        "#Model Evaluation\r\n",
        "from sklearn.model_selection import train_test_split\r\n",
        "from sklearn.preprocessing import StandardScaler\r\n",
        "from sklearn.linear_model import LogisticRegression\r\n",
        "from sklearn.metrics import accuracy_score, confusion_matrix, classification_report"
      ],
      "execution_count": 1,
      "outputs": []
    },
    {
      "cell_type": "markdown",
      "metadata": {
        "id": "iq5dzHkfOpvH"
      },
      "source": [
        "# Import Data\r\n",
        "\r\n"
      ]
    },
    {
      "cell_type": "code",
      "metadata": {
        "id": "_ameq42dOrGm",
        "colab": {
          "base_uri": "https://localhost:8080/"
        },
        "outputId": "905926cd-5bc8-4e48-d47b-4f42a2d68efa"
      },
      "source": [
        "data = pd.read_csv('SBAnational.csv')\r\n",
        "data_copy = data.copy()\r\n"
      ],
      "execution_count": 2,
      "outputs": [
        {
          "output_type": "stream",
          "text": [
            "/usr/local/lib/python3.6/dist-packages/IPython/core/interactiveshell.py:2718: DtypeWarning: Columns (9) have mixed types.Specify dtype option on import or set low_memory=False.\n",
            "  interactivity=interactivity, compiler=compiler, result=result)\n"
          ],
          "name": "stderr"
        }
      ]
    },
    {
      "cell_type": "code",
      "metadata": {
        "id": "z5R7V0hK98YR",
        "colab": {
          "base_uri": "https://localhost:8080/"
        },
        "outputId": "101511ca-dae6-4c98-c469-457f5ae4e170"
      },
      "source": [
        "data.shape\r\n",
        "data_copy.shape"
      ],
      "execution_count": 3,
      "outputs": [
        {
          "output_type": "execute_result",
          "data": {
            "text/plain": [
              "(899164, 27)"
            ]
          },
          "metadata": {
            "tags": []
          },
          "execution_count": 3
        }
      ]
    },
    {
      "cell_type": "markdown",
      "metadata": {
        "id": "VwQ8cjctP9_P"
      },
      "source": [
        "# Explore Data"
      ]
    },
    {
      "cell_type": "code",
      "metadata": {
        "id": "QS4TxbYFP-ux",
        "colab": {
          "base_uri": "https://localhost:8080/",
          "height": 460
        },
        "outputId": "7a9db667-e6b0-4799-cb62-57d507604b46"
      },
      "source": [
        "data.head()"
      ],
      "execution_count": 4,
      "outputs": [
        {
          "output_type": "execute_result",
          "data": {
            "text/html": [
              "<div>\n",
              "<style scoped>\n",
              "    .dataframe tbody tr th:only-of-type {\n",
              "        vertical-align: middle;\n",
              "    }\n",
              "\n",
              "    .dataframe tbody tr th {\n",
              "        vertical-align: top;\n",
              "    }\n",
              "\n",
              "    .dataframe thead th {\n",
              "        text-align: right;\n",
              "    }\n",
              "</style>\n",
              "<table border=\"1\" class=\"dataframe\">\n",
              "  <thead>\n",
              "    <tr style=\"text-align: right;\">\n",
              "      <th></th>\n",
              "      <th>LoanNr_ChkDgt</th>\n",
              "      <th>Name</th>\n",
              "      <th>City</th>\n",
              "      <th>State</th>\n",
              "      <th>Zip</th>\n",
              "      <th>Bank</th>\n",
              "      <th>BankState</th>\n",
              "      <th>NAICS</th>\n",
              "      <th>ApprovalDate</th>\n",
              "      <th>ApprovalFY</th>\n",
              "      <th>Term</th>\n",
              "      <th>NoEmp</th>\n",
              "      <th>NewExist</th>\n",
              "      <th>CreateJob</th>\n",
              "      <th>RetainedJob</th>\n",
              "      <th>FranchiseCode</th>\n",
              "      <th>UrbanRural</th>\n",
              "      <th>RevLineCr</th>\n",
              "      <th>LowDoc</th>\n",
              "      <th>ChgOffDate</th>\n",
              "      <th>DisbursementDate</th>\n",
              "      <th>DisbursementGross</th>\n",
              "      <th>BalanceGross</th>\n",
              "      <th>MIS_Status</th>\n",
              "      <th>ChgOffPrinGr</th>\n",
              "      <th>GrAppv</th>\n",
              "      <th>SBA_Appv</th>\n",
              "    </tr>\n",
              "  </thead>\n",
              "  <tbody>\n",
              "    <tr>\n",
              "      <th>0</th>\n",
              "      <td>1000014003</td>\n",
              "      <td>ABC HOBBYCRAFT</td>\n",
              "      <td>EVANSVILLE</td>\n",
              "      <td>IN</td>\n",
              "      <td>47711</td>\n",
              "      <td>FIFTH THIRD BANK</td>\n",
              "      <td>OH</td>\n",
              "      <td>451120</td>\n",
              "      <td>28-Feb-97</td>\n",
              "      <td>1997</td>\n",
              "      <td>84</td>\n",
              "      <td>4</td>\n",
              "      <td>2.0</td>\n",
              "      <td>0</td>\n",
              "      <td>0</td>\n",
              "      <td>1</td>\n",
              "      <td>0</td>\n",
              "      <td>N</td>\n",
              "      <td>Y</td>\n",
              "      <td>NaN</td>\n",
              "      <td>28-Feb-99</td>\n",
              "      <td>$60,000.00</td>\n",
              "      <td>$0.00</td>\n",
              "      <td>P I F</td>\n",
              "      <td>$0.00</td>\n",
              "      <td>$60,000.00</td>\n",
              "      <td>$48,000.00</td>\n",
              "    </tr>\n",
              "    <tr>\n",
              "      <th>1</th>\n",
              "      <td>1000024006</td>\n",
              "      <td>LANDMARK BAR &amp; GRILLE (THE)</td>\n",
              "      <td>NEW PARIS</td>\n",
              "      <td>IN</td>\n",
              "      <td>46526</td>\n",
              "      <td>1ST SOURCE BANK</td>\n",
              "      <td>IN</td>\n",
              "      <td>722410</td>\n",
              "      <td>28-Feb-97</td>\n",
              "      <td>1997</td>\n",
              "      <td>60</td>\n",
              "      <td>2</td>\n",
              "      <td>2.0</td>\n",
              "      <td>0</td>\n",
              "      <td>0</td>\n",
              "      <td>1</td>\n",
              "      <td>0</td>\n",
              "      <td>N</td>\n",
              "      <td>Y</td>\n",
              "      <td>NaN</td>\n",
              "      <td>31-May-97</td>\n",
              "      <td>$40,000.00</td>\n",
              "      <td>$0.00</td>\n",
              "      <td>P I F</td>\n",
              "      <td>$0.00</td>\n",
              "      <td>$40,000.00</td>\n",
              "      <td>$32,000.00</td>\n",
              "    </tr>\n",
              "    <tr>\n",
              "      <th>2</th>\n",
              "      <td>1000034009</td>\n",
              "      <td>WHITLOCK DDS, TODD M.</td>\n",
              "      <td>BLOOMINGTON</td>\n",
              "      <td>IN</td>\n",
              "      <td>47401</td>\n",
              "      <td>GRANT COUNTY STATE BANK</td>\n",
              "      <td>IN</td>\n",
              "      <td>621210</td>\n",
              "      <td>28-Feb-97</td>\n",
              "      <td>1997</td>\n",
              "      <td>180</td>\n",
              "      <td>7</td>\n",
              "      <td>1.0</td>\n",
              "      <td>0</td>\n",
              "      <td>0</td>\n",
              "      <td>1</td>\n",
              "      <td>0</td>\n",
              "      <td>N</td>\n",
              "      <td>N</td>\n",
              "      <td>NaN</td>\n",
              "      <td>31-Dec-97</td>\n",
              "      <td>$287,000.00</td>\n",
              "      <td>$0.00</td>\n",
              "      <td>P I F</td>\n",
              "      <td>$0.00</td>\n",
              "      <td>$287,000.00</td>\n",
              "      <td>$215,250.00</td>\n",
              "    </tr>\n",
              "    <tr>\n",
              "      <th>3</th>\n",
              "      <td>1000044001</td>\n",
              "      <td>BIG BUCKS PAWN &amp; JEWELRY, LLC</td>\n",
              "      <td>BROKEN ARROW</td>\n",
              "      <td>OK</td>\n",
              "      <td>74012</td>\n",
              "      <td>1ST NATL BK &amp; TR CO OF BROKEN</td>\n",
              "      <td>OK</td>\n",
              "      <td>0</td>\n",
              "      <td>28-Feb-97</td>\n",
              "      <td>1997</td>\n",
              "      <td>60</td>\n",
              "      <td>2</td>\n",
              "      <td>1.0</td>\n",
              "      <td>0</td>\n",
              "      <td>0</td>\n",
              "      <td>1</td>\n",
              "      <td>0</td>\n",
              "      <td>N</td>\n",
              "      <td>Y</td>\n",
              "      <td>NaN</td>\n",
              "      <td>30-Jun-97</td>\n",
              "      <td>$35,000.00</td>\n",
              "      <td>$0.00</td>\n",
              "      <td>P I F</td>\n",
              "      <td>$0.00</td>\n",
              "      <td>$35,000.00</td>\n",
              "      <td>$28,000.00</td>\n",
              "    </tr>\n",
              "    <tr>\n",
              "      <th>4</th>\n",
              "      <td>1000054004</td>\n",
              "      <td>ANASTASIA CONFECTIONS, INC.</td>\n",
              "      <td>ORLANDO</td>\n",
              "      <td>FL</td>\n",
              "      <td>32801</td>\n",
              "      <td>FLORIDA BUS. DEVEL CORP</td>\n",
              "      <td>FL</td>\n",
              "      <td>0</td>\n",
              "      <td>28-Feb-97</td>\n",
              "      <td>1997</td>\n",
              "      <td>240</td>\n",
              "      <td>14</td>\n",
              "      <td>1.0</td>\n",
              "      <td>7</td>\n",
              "      <td>7</td>\n",
              "      <td>1</td>\n",
              "      <td>0</td>\n",
              "      <td>N</td>\n",
              "      <td>N</td>\n",
              "      <td>NaN</td>\n",
              "      <td>14-May-97</td>\n",
              "      <td>$229,000.00</td>\n",
              "      <td>$0.00</td>\n",
              "      <td>P I F</td>\n",
              "      <td>$0.00</td>\n",
              "      <td>$229,000.00</td>\n",
              "      <td>$229,000.00</td>\n",
              "    </tr>\n",
              "  </tbody>\n",
              "</table>\n",
              "</div>"
            ],
            "text/plain": [
              "   LoanNr_ChkDgt                           Name  ...        GrAppv      SBA_Appv\n",
              "0     1000014003                 ABC HOBBYCRAFT  ...   $60,000.00    $48,000.00 \n",
              "1     1000024006    LANDMARK BAR & GRILLE (THE)  ...   $40,000.00    $32,000.00 \n",
              "2     1000034009          WHITLOCK DDS, TODD M.  ...  $287,000.00   $215,250.00 \n",
              "3     1000044001  BIG BUCKS PAWN & JEWELRY, LLC  ...   $35,000.00    $28,000.00 \n",
              "4     1000054004    ANASTASIA CONFECTIONS, INC.  ...  $229,000.00   $229,000.00 \n",
              "\n",
              "[5 rows x 27 columns]"
            ]
          },
          "metadata": {
            "tags": []
          },
          "execution_count": 4
        }
      ]
    },
    {
      "cell_type": "code",
      "metadata": {
        "id": "Epnxk8NfQA_2",
        "colab": {
          "base_uri": "https://localhost:8080/"
        },
        "outputId": "745c1f6e-b762-431c-e06f-0989154cbef9"
      },
      "source": [
        "# Displays column names, non-null values and type \r\n",
        "data.info()"
      ],
      "execution_count": 5,
      "outputs": [
        {
          "output_type": "stream",
          "text": [
            "<class 'pandas.core.frame.DataFrame'>\n",
            "RangeIndex: 899164 entries, 0 to 899163\n",
            "Data columns (total 27 columns):\n",
            " #   Column             Non-Null Count   Dtype  \n",
            "---  ------             --------------   -----  \n",
            " 0   LoanNr_ChkDgt      899164 non-null  int64  \n",
            " 1   Name               899150 non-null  object \n",
            " 2   City               899134 non-null  object \n",
            " 3   State              899150 non-null  object \n",
            " 4   Zip                899164 non-null  int64  \n",
            " 5   Bank               897605 non-null  object \n",
            " 6   BankState          897598 non-null  object \n",
            " 7   NAICS              899164 non-null  int64  \n",
            " 8   ApprovalDate       899164 non-null  object \n",
            " 9   ApprovalFY         899164 non-null  object \n",
            " 10  Term               899164 non-null  int64  \n",
            " 11  NoEmp              899164 non-null  int64  \n",
            " 12  NewExist           899028 non-null  float64\n",
            " 13  CreateJob          899164 non-null  int64  \n",
            " 14  RetainedJob        899164 non-null  int64  \n",
            " 15  FranchiseCode      899164 non-null  int64  \n",
            " 16  UrbanRural         899164 non-null  int64  \n",
            " 17  RevLineCr          894636 non-null  object \n",
            " 18  LowDoc             896582 non-null  object \n",
            " 19  ChgOffDate         162699 non-null  object \n",
            " 20  DisbursementDate   896796 non-null  object \n",
            " 21  DisbursementGross  899164 non-null  object \n",
            " 22  BalanceGross       899164 non-null  object \n",
            " 23  MIS_Status         897167 non-null  object \n",
            " 24  ChgOffPrinGr       899164 non-null  object \n",
            " 25  GrAppv             899164 non-null  object \n",
            " 26  SBA_Appv           899164 non-null  object \n",
            "dtypes: float64(1), int64(9), object(17)\n",
            "memory usage: 185.2+ MB\n"
          ],
          "name": "stdout"
        }
      ]
    },
    {
      "cell_type": "markdown",
      "metadata": {
        "id": "fLCdCGsLlJ-r"
      },
      "source": [
        "## Examine the Target Column\r\n",
        "\r\n",
        "The MIS_Status is what we are want to predict: \r\n",
        "defaulted/charged off (CHGOFF) or have been successfully paid in full (PIF). I transoformed MIS_Status to   binary variables: either a 0 for the loan was repaid on time, or a 1 indicating the client had payment difficulties."
      ]
    },
    {
      "cell_type": "code",
      "metadata": {
        "id": "Ncq94v8rk1K7",
        "colab": {
          "base_uri": "https://localhost:8080/"
        },
        "outputId": "d44d3504-b49f-447f-ac57-d3e242f6f5c3"
      },
      "source": [
        "data['MIS_Status'].unique()"
      ],
      "execution_count": 6,
      "outputs": [
        {
          "output_type": "execute_result",
          "data": {
            "text/plain": [
              "array(['P I F', 'CHGOFF', nan], dtype=object)"
            ]
          },
          "metadata": {
            "tags": []
          },
          "execution_count": 6
        }
      ]
    },
    {
      "cell_type": "code",
      "metadata": {
        "id": "GEW9OplJsVC5",
        "colab": {
          "base_uri": "https://localhost:8080/"
        },
        "outputId": "490a437e-3e41-479c-e42b-01e96f7ec0d4"
      },
      "source": [
        "data['good_bad'] = data['MIS_Status'].replace({'P I F':'1','CHGOFF':'0'}, regex=True)\r\n",
        "data['good_bad'] = data['good_bad'].astype(float)\r\n",
        "data['good_bad']"
      ],
      "execution_count": 7,
      "outputs": [
        {
          "output_type": "execute_result",
          "data": {
            "text/plain": [
              "0         1.0\n",
              "1         1.0\n",
              "2         1.0\n",
              "3         1.0\n",
              "4         1.0\n",
              "         ... \n",
              "899159    1.0\n",
              "899160    1.0\n",
              "899161    1.0\n",
              "899162    0.0\n",
              "899163    1.0\n",
              "Name: good_bad, Length: 899164, dtype: float64"
            ]
          },
          "metadata": {
            "tags": []
          },
          "execution_count": 7
        }
      ]
    },
    {
      "cell_type": "code",
      "metadata": {
        "id": "pWUWh_HAtYUZ",
        "colab": {
          "base_uri": "https://localhost:8080/"
        },
        "outputId": "ff8fdec5-8bd5-4428-f7e1-abaf7878ba66"
      },
      "source": [
        "data['good_bad'].value_counts()"
      ],
      "execution_count": 8,
      "outputs": [
        {
          "output_type": "execute_result",
          "data": {
            "text/plain": [
              "1.0    739609\n",
              "0.0    157558\n",
              "Name: good_bad, dtype: int64"
            ]
          },
          "metadata": {
            "tags": []
          },
          "execution_count": 8
        }
      ]
    },
    {
      "cell_type": "code",
      "metadata": {
        "id": "jEfyrQxSteEI",
        "colab": {
          "base_uri": "https://localhost:8080/",
          "height": 283
        },
        "outputId": "bea69968-9962-4a8d-aa6b-7306d81154f8"
      },
      "source": [
        "data['good_bad'].plot.hist()"
      ],
      "execution_count": 9,
      "outputs": [
        {
          "output_type": "execute_result",
          "data": {
            "text/plain": [
              "<matplotlib.axes._subplots.AxesSubplot at 0x7f14df4166d8>"
            ]
          },
          "metadata": {
            "tags": []
          },
          "execution_count": 9
        },
        {
          "output_type": "display_data",
          "data": {
            "image/png": "[encoded data removed]",
            "text/plain": [
              "<Figure size 432x288 with 1 Axes>"
            ]
          },
          "metadata": {
            "tags": [],
            "needs_background": "light"
          }
        }
      ]
    },
    {
      "cell_type": "markdown",
      "metadata": {
        "id": "E8IVdjKot073"
      },
      "source": [
        "Next I can look at the number  of missing values in each column."
      ]
    },
    {
      "cell_type": "code",
      "metadata": {
        "id": "aPOAy0x-t5M2"
      },
      "source": [
        "def mv(data):\r\n",
        "        length = len(data)\r\n",
        "        mv = data.isnull().sum()\r\n",
        "        mv_percent = 100 * mv / length\r\n",
        "        mv_table = pd.concat([mv, mv_percent], axis=1)\r\n",
        "        mv_table = mv_table[mv_table.iloc[:,1] != 0].sort_values(1, ascending=False).round(1)\r\n",
        "        mv_table =mv_table.rename(\r\n",
        "        columns = {0 : 'Missing Values', 1 : '% of Total Values'})\r\n",
        "        \r\n",
        "        return mv_table"
      ],
      "execution_count": 10,
      "outputs": []
    },
    {
      "cell_type": "code",
      "metadata": {
        "colab": {
          "base_uri": "https://localhost:8080/",
          "height": 408
        },
        "id": "yNEURagnvxty",
        "outputId": "6fb72d5e-0b17-467f-b794-f143724c9728"
      },
      "source": [
        "mv(data)"
      ],
      "execution_count": 11,
      "outputs": [
        {
          "output_type": "execute_result",
          "data": {
            "text/html": [
              "<div>\n",
              "<style scoped>\n",
              "    .dataframe tbody tr th:only-of-type {\n",
              "        vertical-align: middle;\n",
              "    }\n",
              "\n",
              "    .dataframe tbody tr th {\n",
              "        vertical-align: top;\n",
              "    }\n",
              "\n",
              "    .dataframe thead th {\n",
              "        text-align: right;\n",
              "    }\n",
              "</style>\n",
              "<table border=\"1\" class=\"dataframe\">\n",
              "  <thead>\n",
              "    <tr style=\"text-align: right;\">\n",
              "      <th></th>\n",
              "      <th>Missing Values</th>\n",
              "      <th>% of Total Values</th>\n",
              "    </tr>\n",
              "  </thead>\n",
              "  <tbody>\n",
              "    <tr>\n",
              "      <th>ChgOffDate</th>\n",
              "      <td>736465</td>\n",
              "      <td>81.9</td>\n",
              "    </tr>\n",
              "    <tr>\n",
              "      <th>RevLineCr</th>\n",
              "      <td>4528</td>\n",
              "      <td>0.5</td>\n",
              "    </tr>\n",
              "    <tr>\n",
              "      <th>LowDoc</th>\n",
              "      <td>2582</td>\n",
              "      <td>0.3</td>\n",
              "    </tr>\n",
              "    <tr>\n",
              "      <th>DisbursementDate</th>\n",
              "      <td>2368</td>\n",
              "      <td>0.3</td>\n",
              "    </tr>\n",
              "    <tr>\n",
              "      <th>MIS_Status</th>\n",
              "      <td>1997</td>\n",
              "      <td>0.2</td>\n",
              "    </tr>\n",
              "    <tr>\n",
              "      <th>good_bad</th>\n",
              "      <td>1997</td>\n",
              "      <td>0.2</td>\n",
              "    </tr>\n",
              "    <tr>\n",
              "      <th>BankState</th>\n",
              "      <td>1566</td>\n",
              "      <td>0.2</td>\n",
              "    </tr>\n",
              "    <tr>\n",
              "      <th>Bank</th>\n",
              "      <td>1559</td>\n",
              "      <td>0.2</td>\n",
              "    </tr>\n",
              "    <tr>\n",
              "      <th>NewExist</th>\n",
              "      <td>136</td>\n",
              "      <td>0.0</td>\n",
              "    </tr>\n",
              "    <tr>\n",
              "      <th>City</th>\n",
              "      <td>30</td>\n",
              "      <td>0.0</td>\n",
              "    </tr>\n",
              "    <tr>\n",
              "      <th>Name</th>\n",
              "      <td>14</td>\n",
              "      <td>0.0</td>\n",
              "    </tr>\n",
              "    <tr>\n",
              "      <th>State</th>\n",
              "      <td>14</td>\n",
              "      <td>0.0</td>\n",
              "    </tr>\n",
              "  </tbody>\n",
              "</table>\n",
              "</div>"
            ],
            "text/plain": [
              "                  Missing Values  % of Total Values\n",
              "ChgOffDate                736465               81.9\n",
              "RevLineCr                   4528                0.5\n",
              "LowDoc                      2582                0.3\n",
              "DisbursementDate            2368                0.3\n",
              "MIS_Status                  1997                0.2\n",
              "good_bad                    1997                0.2\n",
              "BankState                   1566                0.2\n",
              "Bank                        1559                0.2\n",
              "NewExist                     136                0.0\n",
              "City                          30                0.0\n",
              "Name                          14                0.0\n",
              "State                         14                0.0"
            ]
          },
          "metadata": {
            "tags": []
          },
          "execution_count": 11
        }
      ]
    },
    {
      "cell_type": "markdown",
      "metadata": {
        "id": "Yf_SPiQIzYl5"
      },
      "source": [
        "The most missing data is in the ChgOffDate column. It is as much as 81.9%. This is date when a loan is declared to be in default. I decided to remove this column, due to the fact that we have a lot of missing data and the date when the loan was repaid does not contribute anything to our model."
      ]
    },
    {
      "cell_type": "code",
      "metadata": {
        "id": "NkRKNKzvyaGx"
      },
      "source": [
        "data = data.drop(columns = 'ChgOffDate')"
      ],
      "execution_count": 12,
      "outputs": []
    },
    {
      "cell_type": "markdown",
      "metadata": {
        "id": "hABmbSuVGtWz"
      },
      "source": [
        "The data set consists of 899.164 rows, so I decided to remove the remaining missing data."
      ]
    },
    {
      "cell_type": "code",
      "metadata": {
        "id": "EG7DaILpGvrj"
      },
      "source": [
        "data = data.dropna()"
      ],
      "execution_count": 13,
      "outputs": []
    },
    {
      "cell_type": "code",
      "metadata": {
        "id": "ZjcTsgqdG9R6",
        "colab": {
          "base_uri": "https://localhost:8080/",
          "height": 48
        },
        "outputId": "4dd3abdd-2411-455c-f683-81388a48c6f3"
      },
      "source": [
        "mv(data)"
      ],
      "execution_count": 14,
      "outputs": [
        {
          "output_type": "execute_result",
          "data": {
            "text/html": [
              "<div>\n",
              "<style scoped>\n",
              "    .dataframe tbody tr th:only-of-type {\n",
              "        vertical-align: middle;\n",
              "    }\n",
              "\n",
              "    .dataframe tbody tr th {\n",
              "        vertical-align: top;\n",
              "    }\n",
              "\n",
              "    .dataframe thead th {\n",
              "        text-align: right;\n",
              "    }\n",
              "</style>\n",
              "<table border=\"1\" class=\"dataframe\">\n",
              "  <thead>\n",
              "    <tr style=\"text-align: right;\">\n",
              "      <th></th>\n",
              "      <th>Missing Values</th>\n",
              "      <th>% of Total Values</th>\n",
              "    </tr>\n",
              "  </thead>\n",
              "  <tbody>\n",
              "  </tbody>\n",
              "</table>\n",
              "</div>"
            ],
            "text/plain": [
              "Empty DataFrame\n",
              "Columns: [Missing Values, % of Total Values]\n",
              "Index: []"
            ]
          },
          "metadata": {
            "tags": []
          },
          "execution_count": 14
        }
      ]
    },
    {
      "cell_type": "markdown",
      "metadata": {
        "id": "9cSctm_JIyyy"
      },
      "source": [
        "# Column Types"
      ]
    },
    {
      "cell_type": "code",
      "metadata": {
        "id": "aVsgdZ3vIz0v",
        "colab": {
          "base_uri": "https://localhost:8080/"
        },
        "outputId": "3244afb5-fb41-4610-db73-2955b9fdfc7b"
      },
      "source": [
        "data.dtypes.value_counts()"
      ],
      "execution_count": 15,
      "outputs": [
        {
          "output_type": "execute_result",
          "data": {
            "text/plain": [
              "object     16\n",
              "int64       9\n",
              "float64     2\n",
              "dtype: int64"
            ]
          },
          "metadata": {
            "tags": []
          },
          "execution_count": 15
        }
      ]
    },
    {
      "cell_type": "code",
      "metadata": {
        "id": "AOAKyXAnPDLC",
        "colab": {
          "base_uri": "https://localhost:8080/"
        },
        "outputId": "e1292a56-0742-45d5-9960-4ad119a699e1"
      },
      "source": [
        "data.select_dtypes('object').apply(pd.Series.nunique, axis = 0)"
      ],
      "execution_count": 16,
      "outputs": [
        {
          "output_type": "execute_result",
          "data": {
            "text/plain": [
              "Name                 769838\n",
              "City                  32298\n",
              "State                    51\n",
              "Bank                   5788\n",
              "BankState                56\n",
              "ApprovalDate           9786\n",
              "ApprovalFY               64\n",
              "RevLineCr                18\n",
              "LowDoc                    8\n",
              "DisbursementDate       8435\n",
              "DisbursementGross    117753\n",
              "BalanceGross             15\n",
              "MIS_Status                2\n",
              "ChgOffPrinGr          82645\n",
              "GrAppv                21922\n",
              "SBA_Appv              37935\n",
              "dtype: int64"
            ]
          },
          "metadata": {
            "tags": []
          },
          "execution_count": 16
        }
      ]
    },
    {
      "cell_type": "code",
      "metadata": {
        "id": "rLTgcJWnksj9",
        "colab": {
          "base_uri": "https://localhost:8080/"
        },
        "outputId": "834b01ee-352a-4b3e-bb3d-8b0bdafe766f"
      },
      "source": [
        "data.shape"
      ],
      "execution_count": 17,
      "outputs": [
        {
          "output_type": "execute_result",
          "data": {
            "text/plain": [
              "(886240, 27)"
            ]
          },
          "metadata": {
            "tags": []
          },
          "execution_count": 17
        }
      ]
    },
    {
      "cell_type": "code",
      "metadata": {
        "id": "heA4z-Yuk0BF",
        "colab": {
          "base_uri": "https://localhost:8080/",
          "height": 279
        },
        "outputId": "5fc37292-5d60-459f-db0c-d924594d9494"
      },
      "source": [
        "data.head(3)"
      ],
      "execution_count": 18,
      "outputs": [
        {
          "output_type": "execute_result",
          "data": {
            "text/html": [
              "<div>\n",
              "<style scoped>\n",
              "    .dataframe tbody tr th:only-of-type {\n",
              "        vertical-align: middle;\n",
              "    }\n",
              "\n",
              "    .dataframe tbody tr th {\n",
              "        vertical-align: top;\n",
              "    }\n",
              "\n",
              "    .dataframe thead th {\n",
              "        text-align: right;\n",
              "    }\n",
              "</style>\n",
              "<table border=\"1\" class=\"dataframe\">\n",
              "  <thead>\n",
              "    <tr style=\"text-align: right;\">\n",
              "      <th></th>\n",
              "      <th>LoanNr_ChkDgt</th>\n",
              "      <th>Name</th>\n",
              "      <th>City</th>\n",
              "      <th>State</th>\n",
              "      <th>Zip</th>\n",
              "      <th>Bank</th>\n",
              "      <th>BankState</th>\n",
              "      <th>NAICS</th>\n",
              "      <th>ApprovalDate</th>\n",
              "      <th>ApprovalFY</th>\n",
              "      <th>Term</th>\n",
              "      <th>NoEmp</th>\n",
              "      <th>NewExist</th>\n",
              "      <th>CreateJob</th>\n",
              "      <th>RetainedJob</th>\n",
              "      <th>FranchiseCode</th>\n",
              "      <th>UrbanRural</th>\n",
              "      <th>RevLineCr</th>\n",
              "      <th>LowDoc</th>\n",
              "      <th>DisbursementDate</th>\n",
              "      <th>DisbursementGross</th>\n",
              "      <th>BalanceGross</th>\n",
              "      <th>MIS_Status</th>\n",
              "      <th>ChgOffPrinGr</th>\n",
              "      <th>GrAppv</th>\n",
              "      <th>SBA_Appv</th>\n",
              "      <th>good_bad</th>\n",
              "    </tr>\n",
              "  </thead>\n",
              "  <tbody>\n",
              "    <tr>\n",
              "      <th>0</th>\n",
              "      <td>1000014003</td>\n",
              "      <td>ABC HOBBYCRAFT</td>\n",
              "      <td>EVANSVILLE</td>\n",
              "      <td>IN</td>\n",
              "      <td>47711</td>\n",
              "      <td>FIFTH THIRD BANK</td>\n",
              "      <td>OH</td>\n",
              "      <td>451120</td>\n",
              "      <td>28-Feb-97</td>\n",
              "      <td>1997</td>\n",
              "      <td>84</td>\n",
              "      <td>4</td>\n",
              "      <td>2.0</td>\n",
              "      <td>0</td>\n",
              "      <td>0</td>\n",
              "      <td>1</td>\n",
              "      <td>0</td>\n",
              "      <td>N</td>\n",
              "      <td>Y</td>\n",
              "      <td>28-Feb-99</td>\n",
              "      <td>$60,000.00</td>\n",
              "      <td>$0.00</td>\n",
              "      <td>P I F</td>\n",
              "      <td>$0.00</td>\n",
              "      <td>$60,000.00</td>\n",
              "      <td>$48,000.00</td>\n",
              "      <td>1.0</td>\n",
              "    </tr>\n",
              "    <tr>\n",
              "      <th>1</th>\n",
              "      <td>1000024006</td>\n",
              "      <td>LANDMARK BAR &amp; GRILLE (THE)</td>\n",
              "      <td>NEW PARIS</td>\n",
              "      <td>IN</td>\n",
              "      <td>46526</td>\n",
              "      <td>1ST SOURCE BANK</td>\n",
              "      <td>IN</td>\n",
              "      <td>722410</td>\n",
              "      <td>28-Feb-97</td>\n",
              "      <td>1997</td>\n",
              "      <td>60</td>\n",
              "      <td>2</td>\n",
              "      <td>2.0</td>\n",
              "      <td>0</td>\n",
              "      <td>0</td>\n",
              "      <td>1</td>\n",
              "      <td>0</td>\n",
              "      <td>N</td>\n",
              "      <td>Y</td>\n",
              "      <td>31-May-97</td>\n",
              "      <td>$40,000.00</td>\n",
              "      <td>$0.00</td>\n",
              "      <td>P I F</td>\n",
              "      <td>$0.00</td>\n",
              "      <td>$40,000.00</td>\n",
              "      <td>$32,000.00</td>\n",
              "      <td>1.0</td>\n",
              "    </tr>\n",
              "    <tr>\n",
              "      <th>2</th>\n",
              "      <td>1000034009</td>\n",
              "      <td>WHITLOCK DDS, TODD M.</td>\n",
              "      <td>BLOOMINGTON</td>\n",
              "      <td>IN</td>\n",
              "      <td>47401</td>\n",
              "      <td>GRANT COUNTY STATE BANK</td>\n",
              "      <td>IN</td>\n",
              "      <td>621210</td>\n",
              "      <td>28-Feb-97</td>\n",
              "      <td>1997</td>\n",
              "      <td>180</td>\n",
              "      <td>7</td>\n",
              "      <td>1.0</td>\n",
              "      <td>0</td>\n",
              "      <td>0</td>\n",
              "      <td>1</td>\n",
              "      <td>0</td>\n",
              "      <td>N</td>\n",
              "      <td>N</td>\n",
              "      <td>31-Dec-97</td>\n",
              "      <td>$287,000.00</td>\n",
              "      <td>$0.00</td>\n",
              "      <td>P I F</td>\n",
              "      <td>$0.00</td>\n",
              "      <td>$287,000.00</td>\n",
              "      <td>$215,250.00</td>\n",
              "      <td>1.0</td>\n",
              "    </tr>\n",
              "  </tbody>\n",
              "</table>\n",
              "</div>"
            ],
            "text/plain": [
              "   LoanNr_ChkDgt                         Name  ...      SBA_Appv good_bad\n",
              "0     1000014003               ABC HOBBYCRAFT  ...   $48,000.00       1.0\n",
              "1     1000024006  LANDMARK BAR & GRILLE (THE)  ...   $32,000.00       1.0\n",
              "2     1000034009        WHITLOCK DDS, TODD M.  ...  $215,250.00       1.0\n",
              "\n",
              "[3 rows x 27 columns]"
            ]
          },
          "metadata": {
            "tags": []
          },
          "execution_count": 18
        }
      ]
    },
    {
      "cell_type": "code",
      "metadata": {
        "id": "2Ss4YAc2lsaO",
        "colab": {
          "base_uri": "https://localhost:8080/"
        },
        "outputId": "465f0887-f6c2-4dda-da19-a6e2dd809b2a"
      },
      "source": [
        "data['NAICS']"
      ],
      "execution_count": 19,
      "outputs": [
        {
          "output_type": "execute_result",
          "data": {
            "text/plain": [
              "0         451120\n",
              "1         722410\n",
              "2         621210\n",
              "3              0\n",
              "4              0\n",
              "           ...  \n",
              "899159    451120\n",
              "899160    451130\n",
              "899161    332321\n",
              "899162         0\n",
              "899163         0\n",
              "Name: NAICS, Length: 886240, dtype: int64"
            ]
          },
          "metadata": {
            "tags": []
          },
          "execution_count": 19
        }
      ]
    },
    {
      "cell_type": "markdown",
      "metadata": {
        "id": "ydtQEGcXldzj"
      },
      "source": [
        "The column describing the sector is of the int type. We know from the documentation that this numer description of the first two digits of NAICS. I replaced the numbers with sector names."
      ]
    },
    {
      "cell_type": "code",
      "metadata": {
        "id": "jFM5F4Cclm3_"
      },
      "source": [
        "data['Sector_name'] = data['NAICS'].astype('str').apply(lambda x: x[:2])\r\n",
        "\r\n",
        "data['Sector_name']= data['Sector_name'].map({\r\n",
        "    '11': 'Agriculture/forestry/fishing/hunting',\r\n",
        "    '21': 'Mining/quarrying/oil/ gas extraction',\r\n",
        "    '22': 'Utilities',\r\n",
        "    '23': 'Construction',\r\n",
        "    '31': 'Manufacturing',\r\n",
        "    '32': 'Manufacturing',\r\n",
        "    '33': 'Manufacturing',\r\n",
        "    '42': 'Wholesale_trade',\r\n",
        "    '44': 'Retail_trade',\r\n",
        "    '45': 'Retail_trade',\r\n",
        "    '48': 'Trans/Ware',\r\n",
        "    '49': 'Trans/Ware',\r\n",
        "    '51': 'Information',\r\n",
        "    '52': 'Finance/Insurance',\r\n",
        "    '53': 'Real estate and rental/leasing',\r\n",
        "    '54': 'Professional, scientific, and technical services',\r\n",
        "    '55': 'Management of companies and enterprises',\r\n",
        "    '56': 'Administrative and support and waste management and remediation services',\r\n",
        "    '61': 'Educational services',\r\n",
        "    '62': 'Health care and social assistance',\r\n",
        "    '71': 'Arts, entertainment, and recreation',\r\n",
        "    '72': 'Accommodation and food services',\r\n",
        "    '81': 'Other services',\r\n",
        "    '92': 'Public administration'\r\n",
        "})"
      ],
      "execution_count": 20,
      "outputs": []
    },
    {
      "cell_type": "code",
      "metadata": {
        "id": "byLjTxeLlyKO",
        "colab": {
          "base_uri": "https://localhost:8080/"
        },
        "outputId": "1b43d262-f297-466a-a6d3-ee5b838a71b0"
      },
      "source": [
        "sector_other = 'other'\r\n",
        "data['Sector_name'] = data['Sector_name'].replace(np.NaN, sector_other)\r\n",
        "data['Sector_name']"
      ],
      "execution_count": 21,
      "outputs": [
        {
          "output_type": "execute_result",
          "data": {
            "text/plain": [
              "0                              Retail_trade\n",
              "1           Accommodation and food services\n",
              "2         Health care and social assistance\n",
              "3                                     other\n",
              "4                                     other\n",
              "                        ...                \n",
              "899159                         Retail_trade\n",
              "899160                         Retail_trade\n",
              "899161                        Manufacturing\n",
              "899162                                other\n",
              "899163                                other\n",
              "Name: Sector_name, Length: 886240, dtype: object"
            ]
          },
          "metadata": {
            "tags": []
          },
          "execution_count": 21
        }
      ]
    },
    {
      "cell_type": "code",
      "metadata": {
        "id": "l1iFjg652MDN",
        "colab": {
          "base_uri": "https://localhost:8080/"
        },
        "outputId": "22f74c50-72ce-4870-bd4a-be8a661122b4"
      },
      "source": [
        "data['ApprovalFY'].unique()"
      ],
      "execution_count": 22,
      "outputs": [
        {
          "output_type": "execute_result",
          "data": {
            "text/plain": [
              "array([1997, 1980, 2006, 1998, 1999, 2000, 2001, 1972, 2003, 2004, 1978,\n",
              "       1979, 1981, 2005, 1982, 1983, 1973, 1984, 2007, 1985, 1986, 1987,\n",
              "       2008, 1988, 2009, 1989, 1991, 1990, 1974, 2010, 2011, 1992, 1993,\n",
              "       2002, 2012, 2013, 1994, 2014, 1975, 1977, 1976, '2004', '1994',\n",
              "       '1979', '1976', '1975', '1974', '1977', '1981', '1982', '1983',\n",
              "       '1984', '1978', '1980', '1968', '1976A', '1969', '1995', '1970',\n",
              "       '2005', '1996', '1971', 1996, 1971], dtype=object)"
            ]
          },
          "metadata": {
            "tags": []
          },
          "execution_count": 22
        }
      ]
    },
    {
      "cell_type": "markdown",
      "metadata": {
        "id": "FS8B1OPo2isL"
      },
      "source": [
        "One record including an 'A'. I clean these next."
      ]
    },
    {
      "cell_type": "code",
      "metadata": {
        "id": "ms4tVG5F2KvG"
      },
      "source": [
        "data['ApprovalFY'] = data['ApprovalFY'].replace('1976A', '1976')"
      ],
      "execution_count": 23,
      "outputs": []
    },
    {
      "cell_type": "markdown",
      "metadata": {
        "id": "u7-P8r9m2Gh9"
      },
      "source": [
        "*'DisbursementGross', 'BalanceGross', 'ChgOffPrinGr', 'GrAppv', 'SBA_Appv'* columns that represent values in currency $ are values of type object. I changed them to float values. I also changed the format in the case of columns containing date ('ApprovalDate', 'DisbursementDate', 'ApprovalFY'). These columns were also of type object."
      ]
    },
    {
      "cell_type": "code",
      "metadata": {
        "id": "oIvk0qGgn4nf"
      },
      "source": [
        "d1 = data[['DisbursementGross']].replace('[\\$,]', '', regex=True).astype(float)\r\n",
        "d2 = data[['BalanceGross']].replace('[\\$,]', '', regex=True).astype(float)\r\n",
        "d3 = data[['ChgOffPrinGr']].replace('[\\$,]', '', regex=True).astype(float)\r\n",
        "d4 = data[['GrAppv']].replace('[\\$,]', '', regex=True).astype(float)\r\n",
        "d5 = data[['SBA_Appv']].replace('[\\$,]', '', regex=True).astype(float)\r\n",
        "date1 = pd.to_datetime(data['ApprovalDate'], format='%d-%b-%y', errors='ignore')\r\n",
        "date2 = pd.to_datetime(data['DisbursementDate'], format='%d-%b-%y', errors='ignore')\r\n",
        "year = data['ApprovalFY'].astype(float)"
      ],
      "execution_count": 24,
      "outputs": []
    },
    {
      "cell_type": "code",
      "metadata": {
        "id": "sWCMU6evxPFd",
        "colab": {
          "base_uri": "https://localhost:8080/",
          "height": 407
        },
        "outputId": "a1c6ab48-a9c4-4f5c-b913-1ae30227e62d"
      },
      "source": [
        "d = pd.concat([d1, d2, d3, d4, d5, date1, date2, year], axis=1)\r\n",
        "d"
      ],
      "execution_count": 25,
      "outputs": [
        {
          "output_type": "execute_result",
          "data": {
            "text/html": [
              "<div>\n",
              "<style scoped>\n",
              "    .dataframe tbody tr th:only-of-type {\n",
              "        vertical-align: middle;\n",
              "    }\n",
              "\n",
              "    .dataframe tbody tr th {\n",
              "        vertical-align: top;\n",
              "    }\n",
              "\n",
              "    .dataframe thead th {\n",
              "        text-align: right;\n",
              "    }\n",
              "</style>\n",
              "<table border=\"1\" class=\"dataframe\">\n",
              "  <thead>\n",
              "    <tr style=\"text-align: right;\">\n",
              "      <th></th>\n",
              "      <th>DisbursementGross</th>\n",
              "      <th>BalanceGross</th>\n",
              "      <th>ChgOffPrinGr</th>\n",
              "      <th>GrAppv</th>\n",
              "      <th>SBA_Appv</th>\n",
              "      <th>ApprovalDate</th>\n",
              "      <th>DisbursementDate</th>\n",
              "      <th>ApprovalFY</th>\n",
              "    </tr>\n",
              "  </thead>\n",
              "  <tbody>\n",
              "    <tr>\n",
              "      <th>0</th>\n",
              "      <td>60000.0</td>\n",
              "      <td>0.0</td>\n",
              "      <td>0.0</td>\n",
              "      <td>60000.0</td>\n",
              "      <td>48000.0</td>\n",
              "      <td>1997-02-28</td>\n",
              "      <td>1999-02-28</td>\n",
              "      <td>1997.0</td>\n",
              "    </tr>\n",
              "    <tr>\n",
              "      <th>1</th>\n",
              "      <td>40000.0</td>\n",
              "      <td>0.0</td>\n",
              "      <td>0.0</td>\n",
              "      <td>40000.0</td>\n",
              "      <td>32000.0</td>\n",
              "      <td>1997-02-28</td>\n",
              "      <td>1997-05-31</td>\n",
              "      <td>1997.0</td>\n",
              "    </tr>\n",
              "    <tr>\n",
              "      <th>2</th>\n",
              "      <td>287000.0</td>\n",
              "      <td>0.0</td>\n",
              "      <td>0.0</td>\n",
              "      <td>287000.0</td>\n",
              "      <td>215250.0</td>\n",
              "      <td>1997-02-28</td>\n",
              "      <td>1997-12-31</td>\n",
              "      <td>1997.0</td>\n",
              "    </tr>\n",
              "    <tr>\n",
              "      <th>3</th>\n",
              "      <td>35000.0</td>\n",
              "      <td>0.0</td>\n",
              "      <td>0.0</td>\n",
              "      <td>35000.0</td>\n",
              "      <td>28000.0</td>\n",
              "      <td>1997-02-28</td>\n",
              "      <td>1997-06-30</td>\n",
              "      <td>1997.0</td>\n",
              "    </tr>\n",
              "    <tr>\n",
              "      <th>4</th>\n",
              "      <td>229000.0</td>\n",
              "      <td>0.0</td>\n",
              "      <td>0.0</td>\n",
              "      <td>229000.0</td>\n",
              "      <td>229000.0</td>\n",
              "      <td>1997-02-28</td>\n",
              "      <td>1997-05-14</td>\n",
              "      <td>1997.0</td>\n",
              "    </tr>\n",
              "    <tr>\n",
              "      <th>...</th>\n",
              "      <td>...</td>\n",
              "      <td>...</td>\n",
              "      <td>...</td>\n",
              "      <td>...</td>\n",
              "      <td>...</td>\n",
              "      <td>...</td>\n",
              "      <td>...</td>\n",
              "      <td>...</td>\n",
              "    </tr>\n",
              "    <tr>\n",
              "      <th>899159</th>\n",
              "      <td>70000.0</td>\n",
              "      <td>0.0</td>\n",
              "      <td>0.0</td>\n",
              "      <td>70000.0</td>\n",
              "      <td>56000.0</td>\n",
              "      <td>1997-02-27</td>\n",
              "      <td>1997-09-30</td>\n",
              "      <td>1997.0</td>\n",
              "    </tr>\n",
              "    <tr>\n",
              "      <th>899160</th>\n",
              "      <td>85000.0</td>\n",
              "      <td>0.0</td>\n",
              "      <td>0.0</td>\n",
              "      <td>85000.0</td>\n",
              "      <td>42500.0</td>\n",
              "      <td>1997-02-27</td>\n",
              "      <td>1997-10-31</td>\n",
              "      <td>1997.0</td>\n",
              "    </tr>\n",
              "    <tr>\n",
              "      <th>899161</th>\n",
              "      <td>300000.0</td>\n",
              "      <td>0.0</td>\n",
              "      <td>0.0</td>\n",
              "      <td>300000.0</td>\n",
              "      <td>225000.0</td>\n",
              "      <td>1997-02-27</td>\n",
              "      <td>1997-09-30</td>\n",
              "      <td>1997.0</td>\n",
              "    </tr>\n",
              "    <tr>\n",
              "      <th>899162</th>\n",
              "      <td>75000.0</td>\n",
              "      <td>0.0</td>\n",
              "      <td>46383.0</td>\n",
              "      <td>75000.0</td>\n",
              "      <td>60000.0</td>\n",
              "      <td>1997-02-27</td>\n",
              "      <td>1997-03-31</td>\n",
              "      <td>1997.0</td>\n",
              "    </tr>\n",
              "    <tr>\n",
              "      <th>899163</th>\n",
              "      <td>30000.0</td>\n",
              "      <td>0.0</td>\n",
              "      <td>0.0</td>\n",
              "      <td>30000.0</td>\n",
              "      <td>24000.0</td>\n",
              "      <td>1997-02-27</td>\n",
              "      <td>1997-05-31</td>\n",
              "      <td>1997.0</td>\n",
              "    </tr>\n",
              "  </tbody>\n",
              "</table>\n",
              "<p>886240 rows × 8 columns</p>\n",
              "</div>"
            ],
            "text/plain": [
              "        DisbursementGross  BalanceGross  ...  DisbursementDate  ApprovalFY\n",
              "0                 60000.0           0.0  ...        1999-02-28      1997.0\n",
              "1                 40000.0           0.0  ...        1997-05-31      1997.0\n",
              "2                287000.0           0.0  ...        1997-12-31      1997.0\n",
              "3                 35000.0           0.0  ...        1997-06-30      1997.0\n",
              "4                229000.0           0.0  ...        1997-05-14      1997.0\n",
              "...                   ...           ...  ...               ...         ...\n",
              "899159            70000.0           0.0  ...        1997-09-30      1997.0\n",
              "899160            85000.0           0.0  ...        1997-10-31      1997.0\n",
              "899161           300000.0           0.0  ...        1997-09-30      1997.0\n",
              "899162            75000.0           0.0  ...        1997-03-31      1997.0\n",
              "899163            30000.0           0.0  ...        1997-05-31      1997.0\n",
              "\n",
              "[886240 rows x 8 columns]"
            ]
          },
          "metadata": {
            "tags": []
          },
          "execution_count": 25
        }
      ]
    },
    {
      "cell_type": "code",
      "metadata": {
        "id": "K0i8XDXAqI-x"
      },
      "source": [
        "data = pd.concat([data,d], axis=1)"
      ],
      "execution_count": 26,
      "outputs": []
    },
    {
      "cell_type": "code",
      "metadata": {
        "id": "3jZqzGGEv1Fj",
        "colab": {
          "base_uri": "https://localhost:8080/",
          "height": 738
        },
        "outputId": "4a8fd782-7be2-4f6f-f26a-b941b16a8a06"
      },
      "source": [
        "data = data.iloc[:,[0,1,2,3,4,5,6,10,11,12,13,14,15,16,17,18,26,27,28,29,30,31,32,33,34,35]]\r\n",
        "data"
      ],
      "execution_count": 27,
      "outputs": [
        {
          "output_type": "execute_result",
          "data": {
            "text/html": [
              "<div>\n",
              "<style scoped>\n",
              "    .dataframe tbody tr th:only-of-type {\n",
              "        vertical-align: middle;\n",
              "    }\n",
              "\n",
              "    .dataframe tbody tr th {\n",
              "        vertical-align: top;\n",
              "    }\n",
              "\n",
              "    .dataframe thead th {\n",
              "        text-align: right;\n",
              "    }\n",
              "</style>\n",
              "<table border=\"1\" class=\"dataframe\">\n",
              "  <thead>\n",
              "    <tr style=\"text-align: right;\">\n",
              "      <th></th>\n",
              "      <th>LoanNr_ChkDgt</th>\n",
              "      <th>Name</th>\n",
              "      <th>City</th>\n",
              "      <th>State</th>\n",
              "      <th>Zip</th>\n",
              "      <th>Bank</th>\n",
              "      <th>BankState</th>\n",
              "      <th>Term</th>\n",
              "      <th>NoEmp</th>\n",
              "      <th>NewExist</th>\n",
              "      <th>CreateJob</th>\n",
              "      <th>RetainedJob</th>\n",
              "      <th>FranchiseCode</th>\n",
              "      <th>UrbanRural</th>\n",
              "      <th>RevLineCr</th>\n",
              "      <th>LowDoc</th>\n",
              "      <th>good_bad</th>\n",
              "      <th>Sector_name</th>\n",
              "      <th>DisbursementGross</th>\n",
              "      <th>BalanceGross</th>\n",
              "      <th>ChgOffPrinGr</th>\n",
              "      <th>GrAppv</th>\n",
              "      <th>SBA_Appv</th>\n",
              "      <th>ApprovalDate</th>\n",
              "      <th>DisbursementDate</th>\n",
              "      <th>ApprovalFY</th>\n",
              "    </tr>\n",
              "  </thead>\n",
              "  <tbody>\n",
              "    <tr>\n",
              "      <th>0</th>\n",
              "      <td>1000014003</td>\n",
              "      <td>ABC HOBBYCRAFT</td>\n",
              "      <td>EVANSVILLE</td>\n",
              "      <td>IN</td>\n",
              "      <td>47711</td>\n",
              "      <td>FIFTH THIRD BANK</td>\n",
              "      <td>OH</td>\n",
              "      <td>84</td>\n",
              "      <td>4</td>\n",
              "      <td>2.0</td>\n",
              "      <td>0</td>\n",
              "      <td>0</td>\n",
              "      <td>1</td>\n",
              "      <td>0</td>\n",
              "      <td>N</td>\n",
              "      <td>Y</td>\n",
              "      <td>1.0</td>\n",
              "      <td>Retail_trade</td>\n",
              "      <td>60000.0</td>\n",
              "      <td>0.0</td>\n",
              "      <td>0.0</td>\n",
              "      <td>60000.0</td>\n",
              "      <td>48000.0</td>\n",
              "      <td>1997-02-28</td>\n",
              "      <td>1999-02-28</td>\n",
              "      <td>1997.0</td>\n",
              "    </tr>\n",
              "    <tr>\n",
              "      <th>1</th>\n",
              "      <td>1000024006</td>\n",
              "      <td>LANDMARK BAR &amp; GRILLE (THE)</td>\n",
              "      <td>NEW PARIS</td>\n",
              "      <td>IN</td>\n",
              "      <td>46526</td>\n",
              "      <td>1ST SOURCE BANK</td>\n",
              "      <td>IN</td>\n",
              "      <td>60</td>\n",
              "      <td>2</td>\n",
              "      <td>2.0</td>\n",
              "      <td>0</td>\n",
              "      <td>0</td>\n",
              "      <td>1</td>\n",
              "      <td>0</td>\n",
              "      <td>N</td>\n",
              "      <td>Y</td>\n",
              "      <td>1.0</td>\n",
              "      <td>Accommodation and food services</td>\n",
              "      <td>40000.0</td>\n",
              "      <td>0.0</td>\n",
              "      <td>0.0</td>\n",
              "      <td>40000.0</td>\n",
              "      <td>32000.0</td>\n",
              "      <td>1997-02-28</td>\n",
              "      <td>1997-05-31</td>\n",
              "      <td>1997.0</td>\n",
              "    </tr>\n",
              "    <tr>\n",
              "      <th>2</th>\n",
              "      <td>1000034009</td>\n",
              "      <td>WHITLOCK DDS, TODD M.</td>\n",
              "      <td>BLOOMINGTON</td>\n",
              "      <td>IN</td>\n",
              "      <td>47401</td>\n",
              "      <td>GRANT COUNTY STATE BANK</td>\n",
              "      <td>IN</td>\n",
              "      <td>180</td>\n",
              "      <td>7</td>\n",
              "      <td>1.0</td>\n",
              "      <td>0</td>\n",
              "      <td>0</td>\n",
              "      <td>1</td>\n",
              "      <td>0</td>\n",
              "      <td>N</td>\n",
              "      <td>N</td>\n",
              "      <td>1.0</td>\n",
              "      <td>Health care and social assistance</td>\n",
              "      <td>287000.0</td>\n",
              "      <td>0.0</td>\n",
              "      <td>0.0</td>\n",
              "      <td>287000.0</td>\n",
              "      <td>215250.0</td>\n",
              "      <td>1997-02-28</td>\n",
              "      <td>1997-12-31</td>\n",
              "      <td>1997.0</td>\n",
              "    </tr>\n",
              "    <tr>\n",
              "      <th>3</th>\n",
              "      <td>1000044001</td>\n",
              "      <td>BIG BUCKS PAWN &amp; JEWELRY, LLC</td>\n",
              "      <td>BROKEN ARROW</td>\n",
              "      <td>OK</td>\n",
              "      <td>74012</td>\n",
              "      <td>1ST NATL BK &amp; TR CO OF BROKEN</td>\n",
              "      <td>OK</td>\n",
              "      <td>60</td>\n",
              "      <td>2</td>\n",
              "      <td>1.0</td>\n",
              "      <td>0</td>\n",
              "      <td>0</td>\n",
              "      <td>1</td>\n",
              "      <td>0</td>\n",
              "      <td>N</td>\n",
              "      <td>Y</td>\n",
              "      <td>1.0</td>\n",
              "      <td>other</td>\n",
              "      <td>35000.0</td>\n",
              "      <td>0.0</td>\n",
              "      <td>0.0</td>\n",
              "      <td>35000.0</td>\n",
              "      <td>28000.0</td>\n",
              "      <td>1997-02-28</td>\n",
              "      <td>1997-06-30</td>\n",
              "      <td>1997.0</td>\n",
              "    </tr>\n",
              "    <tr>\n",
              "      <th>4</th>\n",
              "      <td>1000054004</td>\n",
              "      <td>ANASTASIA CONFECTIONS, INC.</td>\n",
              "      <td>ORLANDO</td>\n",
              "      <td>FL</td>\n",
              "      <td>32801</td>\n",
              "      <td>FLORIDA BUS. DEVEL CORP</td>\n",
              "      <td>FL</td>\n",
              "      <td>240</td>\n",
              "      <td>14</td>\n",
              "      <td>1.0</td>\n",
              "      <td>7</td>\n",
              "      <td>7</td>\n",
              "      <td>1</td>\n",
              "      <td>0</td>\n",
              "      <td>N</td>\n",
              "      <td>N</td>\n",
              "      <td>1.0</td>\n",
              "      <td>other</td>\n",
              "      <td>229000.0</td>\n",
              "      <td>0.0</td>\n",
              "      <td>0.0</td>\n",
              "      <td>229000.0</td>\n",
              "      <td>229000.0</td>\n",
              "      <td>1997-02-28</td>\n",
              "      <td>1997-05-14</td>\n",
              "      <td>1997.0</td>\n",
              "    </tr>\n",
              "    <tr>\n",
              "      <th>...</th>\n",
              "      <td>...</td>\n",
              "      <td>...</td>\n",
              "      <td>...</td>\n",
              "      <td>...</td>\n",
              "      <td>...</td>\n",
              "      <td>...</td>\n",
              "      <td>...</td>\n",
              "      <td>...</td>\n",
              "      <td>...</td>\n",
              "      <td>...</td>\n",
              "      <td>...</td>\n",
              "      <td>...</td>\n",
              "      <td>...</td>\n",
              "      <td>...</td>\n",
              "      <td>...</td>\n",
              "      <td>...</td>\n",
              "      <td>...</td>\n",
              "      <td>...</td>\n",
              "      <td>...</td>\n",
              "      <td>...</td>\n",
              "      <td>...</td>\n",
              "      <td>...</td>\n",
              "      <td>...</td>\n",
              "      <td>...</td>\n",
              "      <td>...</td>\n",
              "      <td>...</td>\n",
              "    </tr>\n",
              "    <tr>\n",
              "      <th>899159</th>\n",
              "      <td>9995573004</td>\n",
              "      <td>FABRIC FARMS</td>\n",
              "      <td>UPPER ARLINGTON</td>\n",
              "      <td>OH</td>\n",
              "      <td>43221</td>\n",
              "      <td>JPMORGAN CHASE BANK NATL ASSOC</td>\n",
              "      <td>IL</td>\n",
              "      <td>60</td>\n",
              "      <td>6</td>\n",
              "      <td>1.0</td>\n",
              "      <td>0</td>\n",
              "      <td>0</td>\n",
              "      <td>1</td>\n",
              "      <td>0</td>\n",
              "      <td>0</td>\n",
              "      <td>N</td>\n",
              "      <td>1.0</td>\n",
              "      <td>Retail_trade</td>\n",
              "      <td>70000.0</td>\n",
              "      <td>0.0</td>\n",
              "      <td>0.0</td>\n",
              "      <td>70000.0</td>\n",
              "      <td>56000.0</td>\n",
              "      <td>1997-02-27</td>\n",
              "      <td>1997-09-30</td>\n",
              "      <td>1997.0</td>\n",
              "    </tr>\n",
              "    <tr>\n",
              "      <th>899160</th>\n",
              "      <td>9995603000</td>\n",
              "      <td>FABRIC FARMS</td>\n",
              "      <td>COLUMBUS</td>\n",
              "      <td>OH</td>\n",
              "      <td>43221</td>\n",
              "      <td>JPMORGAN CHASE BANK NATL ASSOC</td>\n",
              "      <td>IL</td>\n",
              "      <td>60</td>\n",
              "      <td>6</td>\n",
              "      <td>1.0</td>\n",
              "      <td>0</td>\n",
              "      <td>0</td>\n",
              "      <td>1</td>\n",
              "      <td>0</td>\n",
              "      <td>Y</td>\n",
              "      <td>N</td>\n",
              "      <td>1.0</td>\n",
              "      <td>Retail_trade</td>\n",
              "      <td>85000.0</td>\n",
              "      <td>0.0</td>\n",
              "      <td>0.0</td>\n",
              "      <td>85000.0</td>\n",
              "      <td>42500.0</td>\n",
              "      <td>1997-02-27</td>\n",
              "      <td>1997-10-31</td>\n",
              "      <td>1997.0</td>\n",
              "    </tr>\n",
              "    <tr>\n",
              "      <th>899161</th>\n",
              "      <td>9995613003</td>\n",
              "      <td>RADCO MANUFACTURING CO.,INC.</td>\n",
              "      <td>SANTA MARIA</td>\n",
              "      <td>CA</td>\n",
              "      <td>93455</td>\n",
              "      <td>RABOBANK, NATIONAL ASSOCIATION</td>\n",
              "      <td>CA</td>\n",
              "      <td>108</td>\n",
              "      <td>26</td>\n",
              "      <td>1.0</td>\n",
              "      <td>0</td>\n",
              "      <td>0</td>\n",
              "      <td>1</td>\n",
              "      <td>0</td>\n",
              "      <td>N</td>\n",
              "      <td>N</td>\n",
              "      <td>1.0</td>\n",
              "      <td>Manufacturing</td>\n",
              "      <td>300000.0</td>\n",
              "      <td>0.0</td>\n",
              "      <td>0.0</td>\n",
              "      <td>300000.0</td>\n",
              "      <td>225000.0</td>\n",
              "      <td>1997-02-27</td>\n",
              "      <td>1997-09-30</td>\n",
              "      <td>1997.0</td>\n",
              "    </tr>\n",
              "    <tr>\n",
              "      <th>899162</th>\n",
              "      <td>9995973006</td>\n",
              "      <td>MARUTAMA HAWAII, INC.</td>\n",
              "      <td>HONOLULU</td>\n",
              "      <td>HI</td>\n",
              "      <td>96830</td>\n",
              "      <td>BANK OF HAWAII</td>\n",
              "      <td>HI</td>\n",
              "      <td>60</td>\n",
              "      <td>6</td>\n",
              "      <td>1.0</td>\n",
              "      <td>0</td>\n",
              "      <td>0</td>\n",
              "      <td>1</td>\n",
              "      <td>0</td>\n",
              "      <td>N</td>\n",
              "      <td>Y</td>\n",
              "      <td>0.0</td>\n",
              "      <td>other</td>\n",
              "      <td>75000.0</td>\n",
              "      <td>0.0</td>\n",
              "      <td>46383.0</td>\n",
              "      <td>75000.0</td>\n",
              "      <td>60000.0</td>\n",
              "      <td>1997-02-27</td>\n",
              "      <td>1997-03-31</td>\n",
              "      <td>1997.0</td>\n",
              "    </tr>\n",
              "    <tr>\n",
              "      <th>899163</th>\n",
              "      <td>9996003010</td>\n",
              "      <td>PACIFIC TRADEWINDS FAN &amp; LIGHT</td>\n",
              "      <td>KAILUA</td>\n",
              "      <td>HI</td>\n",
              "      <td>96734</td>\n",
              "      <td>CENTRAL PACIFIC BANK</td>\n",
              "      <td>HI</td>\n",
              "      <td>48</td>\n",
              "      <td>1</td>\n",
              "      <td>2.0</td>\n",
              "      <td>0</td>\n",
              "      <td>0</td>\n",
              "      <td>1</td>\n",
              "      <td>0</td>\n",
              "      <td>N</td>\n",
              "      <td>N</td>\n",
              "      <td>1.0</td>\n",
              "      <td>other</td>\n",
              "      <td>30000.0</td>\n",
              "      <td>0.0</td>\n",
              "      <td>0.0</td>\n",
              "      <td>30000.0</td>\n",
              "      <td>24000.0</td>\n",
              "      <td>1997-02-27</td>\n",
              "      <td>1997-05-31</td>\n",
              "      <td>1997.0</td>\n",
              "    </tr>\n",
              "  </tbody>\n",
              "</table>\n",
              "<p>886240 rows × 26 columns</p>\n",
              "</div>"
            ],
            "text/plain": [
              "        LoanNr_ChkDgt  ... ApprovalFY\n",
              "0          1000014003  ...     1997.0\n",
              "1          1000024006  ...     1997.0\n",
              "2          1000034009  ...     1997.0\n",
              "3          1000044001  ...     1997.0\n",
              "4          1000054004  ...     1997.0\n",
              "...               ...  ...        ...\n",
              "899159     9995573004  ...     1997.0\n",
              "899160     9995603000  ...     1997.0\n",
              "899161     9995613003  ...     1997.0\n",
              "899162     9995973006  ...     1997.0\n",
              "899163     9996003010  ...     1997.0\n",
              "\n",
              "[886240 rows x 26 columns]"
            ]
          },
          "metadata": {
            "tags": []
          },
          "execution_count": 27
        }
      ]
    },
    {
      "cell_type": "code",
      "metadata": {
        "id": "WnrA_O5on6dX",
        "colab": {
          "base_uri": "https://localhost:8080/"
        },
        "outputId": "ffba800f-3391-4ee6-f9fc-701caa5dce7c"
      },
      "source": [
        "data.info()"
      ],
      "execution_count": 28,
      "outputs": [
        {
          "output_type": "stream",
          "text": [
            "<class 'pandas.core.frame.DataFrame'>\n",
            "Int64Index: 886240 entries, 0 to 899163\n",
            "Data columns (total 26 columns):\n",
            " #   Column             Non-Null Count   Dtype         \n",
            "---  ------             --------------   -----         \n",
            " 0   LoanNr_ChkDgt      886240 non-null  int64         \n",
            " 1   Name               886240 non-null  object        \n",
            " 2   City               886240 non-null  object        \n",
            " 3   State              886240 non-null  object        \n",
            " 4   Zip                886240 non-null  int64         \n",
            " 5   Bank               886240 non-null  object        \n",
            " 6   BankState          886240 non-null  object        \n",
            " 7   Term               886240 non-null  int64         \n",
            " 8   NoEmp              886240 non-null  int64         \n",
            " 9   NewExist           886240 non-null  float64       \n",
            " 10  CreateJob          886240 non-null  int64         \n",
            " 11  RetainedJob        886240 non-null  int64         \n",
            " 12  FranchiseCode      886240 non-null  int64         \n",
            " 13  UrbanRural         886240 non-null  int64         \n",
            " 14  RevLineCr          886240 non-null  object        \n",
            " 15  LowDoc             886240 non-null  object        \n",
            " 16  good_bad           886240 non-null  float64       \n",
            " 17  Sector_name        886240 non-null  object        \n",
            " 18  DisbursementGross  886240 non-null  float64       \n",
            " 19  BalanceGross       886240 non-null  float64       \n",
            " 20  ChgOffPrinGr       886240 non-null  float64       \n",
            " 21  GrAppv             886240 non-null  float64       \n",
            " 22  SBA_Appv           886240 non-null  float64       \n",
            " 23  ApprovalDate       886240 non-null  datetime64[ns]\n",
            " 24  DisbursementDate   886240 non-null  datetime64[ns]\n",
            " 25  ApprovalFY         886240 non-null  float64       \n",
            "dtypes: datetime64[ns](2), float64(8), int64(8), object(8)\n",
            "memory usage: 182.6+ MB\n"
          ],
          "name": "stdout"
        }
      ]
    },
    {
      "cell_type": "code",
      "metadata": {
        "id": "v42EkX-KL9wz",
        "colab": {
          "base_uri": "https://localhost:8080/"
        },
        "outputId": "627d1c33-8701-45f8-b015-80503d21538a"
      },
      "source": [
        "data['NewExist'].unique()"
      ],
      "execution_count": 29,
      "outputs": [
        {
          "output_type": "execute_result",
          "data": {
            "text/plain": [
              "array([2., 1., 0.])"
            ]
          },
          "metadata": {
            "tags": []
          },
          "execution_count": 29
        }
      ]
    },
    {
      "cell_type": "code",
      "metadata": {
        "id": "wPFDglWGMQui",
        "colab": {
          "base_uri": "https://localhost:8080/",
          "height": 790
        },
        "outputId": "8c12e01b-9f17-4266-f887-d92df8445587"
      },
      "source": [
        "data[data['NewExist']==0]"
      ],
      "execution_count": 30,
      "outputs": [
        {
          "output_type": "execute_result",
          "data": {
            "text/html": [
              "<div>\n",
              "<style scoped>\n",
              "    .dataframe tbody tr th:only-of-type {\n",
              "        vertical-align: middle;\n",
              "    }\n",
              "\n",
              "    .dataframe tbody tr th {\n",
              "        vertical-align: top;\n",
              "    }\n",
              "\n",
              "    .dataframe thead th {\n",
              "        text-align: right;\n",
              "    }\n",
              "</style>\n",
              "<table border=\"1\" class=\"dataframe\">\n",
              "  <thead>\n",
              "    <tr style=\"text-align: right;\">\n",
              "      <th></th>\n",
              "      <th>LoanNr_ChkDgt</th>\n",
              "      <th>Name</th>\n",
              "      <th>City</th>\n",
              "      <th>State</th>\n",
              "      <th>Zip</th>\n",
              "      <th>Bank</th>\n",
              "      <th>BankState</th>\n",
              "      <th>Term</th>\n",
              "      <th>NoEmp</th>\n",
              "      <th>NewExist</th>\n",
              "      <th>CreateJob</th>\n",
              "      <th>RetainedJob</th>\n",
              "      <th>FranchiseCode</th>\n",
              "      <th>UrbanRural</th>\n",
              "      <th>RevLineCr</th>\n",
              "      <th>LowDoc</th>\n",
              "      <th>good_bad</th>\n",
              "      <th>Sector_name</th>\n",
              "      <th>DisbursementGross</th>\n",
              "      <th>BalanceGross</th>\n",
              "      <th>ChgOffPrinGr</th>\n",
              "      <th>GrAppv</th>\n",
              "      <th>SBA_Appv</th>\n",
              "      <th>ApprovalDate</th>\n",
              "      <th>DisbursementDate</th>\n",
              "      <th>ApprovalFY</th>\n",
              "    </tr>\n",
              "  </thead>\n",
              "  <tbody>\n",
              "    <tr>\n",
              "      <th>142</th>\n",
              "      <td>1001235008</td>\n",
              "      <td>NEW ENGLAND PAINT &amp; SUPPLY, IN</td>\n",
              "      <td>READING (TOWN OF)</td>\n",
              "      <td>MA</td>\n",
              "      <td>1867</td>\n",
              "      <td>DANVERSBANK</td>\n",
              "      <td>MA</td>\n",
              "      <td>84</td>\n",
              "      <td>4</td>\n",
              "      <td>0.0</td>\n",
              "      <td>0</td>\n",
              "      <td>0</td>\n",
              "      <td>1</td>\n",
              "      <td>0</td>\n",
              "      <td>0</td>\n",
              "      <td>N</td>\n",
              "      <td>1.0</td>\n",
              "      <td>other</td>\n",
              "      <td>100000.0</td>\n",
              "      <td>0.0</td>\n",
              "      <td>0.0</td>\n",
              "      <td>100000.0</td>\n",
              "      <td>50000.0</td>\n",
              "      <td>1997-05-21</td>\n",
              "      <td>1999-03-31</td>\n",
              "      <td>1997.0</td>\n",
              "    </tr>\n",
              "    <tr>\n",
              "      <th>170</th>\n",
              "      <td>1001385007</td>\n",
              "      <td>Mill City Club</td>\n",
              "      <td>Lawrence</td>\n",
              "      <td>MA</td>\n",
              "      <td>1841</td>\n",
              "      <td>BANK OF AMERICA NATL ASSOC</td>\n",
              "      <td>NC</td>\n",
              "      <td>180</td>\n",
              "      <td>2</td>\n",
              "      <td>0.0</td>\n",
              "      <td>0</td>\n",
              "      <td>0</td>\n",
              "      <td>1</td>\n",
              "      <td>0</td>\n",
              "      <td>0</td>\n",
              "      <td>N</td>\n",
              "      <td>1.0</td>\n",
              "      <td>Accommodation and food services</td>\n",
              "      <td>70000.0</td>\n",
              "      <td>0.0</td>\n",
              "      <td>0.0</td>\n",
              "      <td>70000.0</td>\n",
              "      <td>35000.0</td>\n",
              "      <td>1997-06-16</td>\n",
              "      <td>1997-11-30</td>\n",
              "      <td>1997.0</td>\n",
              "    </tr>\n",
              "    <tr>\n",
              "      <th>185</th>\n",
              "      <td>1001485002</td>\n",
              "      <td>LBC BILLING, LLC</td>\n",
              "      <td>PROVIDENCE</td>\n",
              "      <td>RI</td>\n",
              "      <td>2908</td>\n",
              "      <td>BANK OF AMERICA NATL ASSOC</td>\n",
              "      <td>NC</td>\n",
              "      <td>36</td>\n",
              "      <td>1</td>\n",
              "      <td>0.0</td>\n",
              "      <td>0</td>\n",
              "      <td>0</td>\n",
              "      <td>1</td>\n",
              "      <td>0</td>\n",
              "      <td>0</td>\n",
              "      <td>N</td>\n",
              "      <td>1.0</td>\n",
              "      <td>Information</td>\n",
              "      <td>10000.0</td>\n",
              "      <td>0.0</td>\n",
              "      <td>0.0</td>\n",
              "      <td>10000.0</td>\n",
              "      <td>5000.0</td>\n",
              "      <td>1997-07-02</td>\n",
              "      <td>1999-04-30</td>\n",
              "      <td>1997.0</td>\n",
              "    </tr>\n",
              "    <tr>\n",
              "      <th>211</th>\n",
              "      <td>1001685003</td>\n",
              "      <td>Comprehensive Psychiatric Asso</td>\n",
              "      <td>Weston (Town of)</td>\n",
              "      <td>MA</td>\n",
              "      <td>2193</td>\n",
              "      <td>BANK OF AMERICA NATL ASSOC</td>\n",
              "      <td>NC</td>\n",
              "      <td>12</td>\n",
              "      <td>10</td>\n",
              "      <td>0.0</td>\n",
              "      <td>0</td>\n",
              "      <td>0</td>\n",
              "      <td>1</td>\n",
              "      <td>0</td>\n",
              "      <td>0</td>\n",
              "      <td>N</td>\n",
              "      <td>1.0</td>\n",
              "      <td>other</td>\n",
              "      <td>100000.0</td>\n",
              "      <td>0.0</td>\n",
              "      <td>0.0</td>\n",
              "      <td>100000.0</td>\n",
              "      <td>50000.0</td>\n",
              "      <td>1997-09-19</td>\n",
              "      <td>1997-11-30</td>\n",
              "      <td>1997.0</td>\n",
              "    </tr>\n",
              "    <tr>\n",
              "      <th>223</th>\n",
              "      <td>1001785009</td>\n",
              "      <td>West Reading Used Furniture</td>\n",
              "      <td>West Reading</td>\n",
              "      <td>PA</td>\n",
              "      <td>19611</td>\n",
              "      <td>WELLS FARGO BANK NATL ASSOC</td>\n",
              "      <td>PA</td>\n",
              "      <td>18</td>\n",
              "      <td>3</td>\n",
              "      <td>0.0</td>\n",
              "      <td>0</td>\n",
              "      <td>0</td>\n",
              "      <td>1</td>\n",
              "      <td>0</td>\n",
              "      <td>0</td>\n",
              "      <td>N</td>\n",
              "      <td>1.0</td>\n",
              "      <td>other</td>\n",
              "      <td>20000.0</td>\n",
              "      <td>0.0</td>\n",
              "      <td>0.0</td>\n",
              "      <td>20000.0</td>\n",
              "      <td>10000.0</td>\n",
              "      <td>1997-10-10</td>\n",
              "      <td>1998-04-30</td>\n",
              "      <td>1998.0</td>\n",
              "    </tr>\n",
              "    <tr>\n",
              "      <th>...</th>\n",
              "      <td>...</td>\n",
              "      <td>...</td>\n",
              "      <td>...</td>\n",
              "      <td>...</td>\n",
              "      <td>...</td>\n",
              "      <td>...</td>\n",
              "      <td>...</td>\n",
              "      <td>...</td>\n",
              "      <td>...</td>\n",
              "      <td>...</td>\n",
              "      <td>...</td>\n",
              "      <td>...</td>\n",
              "      <td>...</td>\n",
              "      <td>...</td>\n",
              "      <td>...</td>\n",
              "      <td>...</td>\n",
              "      <td>...</td>\n",
              "      <td>...</td>\n",
              "      <td>...</td>\n",
              "      <td>...</td>\n",
              "      <td>...</td>\n",
              "      <td>...</td>\n",
              "      <td>...</td>\n",
              "      <td>...</td>\n",
              "      <td>...</td>\n",
              "      <td>...</td>\n",
              "    </tr>\n",
              "    <tr>\n",
              "      <th>895872</th>\n",
              "      <td>9923063005</td>\n",
              "      <td>VAN-JONES HARDWOOD CO., INC</td>\n",
              "      <td>CRYSTAL SPRING</td>\n",
              "      <td>PA</td>\n",
              "      <td>15536</td>\n",
              "      <td>FARMERS &amp; MERCHANTS TR CO</td>\n",
              "      <td>PA</td>\n",
              "      <td>12</td>\n",
              "      <td>7</td>\n",
              "      <td>0.0</td>\n",
              "      <td>0</td>\n",
              "      <td>0</td>\n",
              "      <td>1</td>\n",
              "      <td>0</td>\n",
              "      <td>Y</td>\n",
              "      <td>N</td>\n",
              "      <td>1.0</td>\n",
              "      <td>Wholesale_trade</td>\n",
              "      <td>250000.0</td>\n",
              "      <td>0.0</td>\n",
              "      <td>0.0</td>\n",
              "      <td>250000.0</td>\n",
              "      <td>225000.0</td>\n",
              "      <td>1997-01-27</td>\n",
              "      <td>1997-02-28</td>\n",
              "      <td>1997.0</td>\n",
              "    </tr>\n",
              "    <tr>\n",
              "      <th>895976</th>\n",
              "      <td>9925253007</td>\n",
              "      <td>ACO ENTERPRISES, INC.</td>\n",
              "      <td>SALT LAKE CITY</td>\n",
              "      <td>UT</td>\n",
              "      <td>84050</td>\n",
              "      <td>WELLS FARGO BANK NATL ASSOC</td>\n",
              "      <td>SD</td>\n",
              "      <td>12</td>\n",
              "      <td>2</td>\n",
              "      <td>0.0</td>\n",
              "      <td>0</td>\n",
              "      <td>0</td>\n",
              "      <td>1</td>\n",
              "      <td>0</td>\n",
              "      <td>N</td>\n",
              "      <td>N</td>\n",
              "      <td>1.0</td>\n",
              "      <td>Manufacturing</td>\n",
              "      <td>50000.0</td>\n",
              "      <td>0.0</td>\n",
              "      <td>0.0</td>\n",
              "      <td>50000.0</td>\n",
              "      <td>45000.0</td>\n",
              "      <td>1997-01-28</td>\n",
              "      <td>1997-02-28</td>\n",
              "      <td>1997.0</td>\n",
              "    </tr>\n",
              "    <tr>\n",
              "      <th>896382</th>\n",
              "      <td>9933633003</td>\n",
              "      <td>FIRST CLASS TAN, INC.</td>\n",
              "      <td>HOT SPRINGS</td>\n",
              "      <td>AR</td>\n",
              "      <td>71913</td>\n",
              "      <td>BANK OF AMERICA NATL ASSOC</td>\n",
              "      <td>AR</td>\n",
              "      <td>60</td>\n",
              "      <td>3</td>\n",
              "      <td>0.0</td>\n",
              "      <td>0</td>\n",
              "      <td>0</td>\n",
              "      <td>1</td>\n",
              "      <td>0</td>\n",
              "      <td>N</td>\n",
              "      <td>Y</td>\n",
              "      <td>1.0</td>\n",
              "      <td>other</td>\n",
              "      <td>18700.0</td>\n",
              "      <td>0.0</td>\n",
              "      <td>0.0</td>\n",
              "      <td>23000.0</td>\n",
              "      <td>18400.0</td>\n",
              "      <td>1997-01-30</td>\n",
              "      <td>1997-02-28</td>\n",
              "      <td>1997.0</td>\n",
              "    </tr>\n",
              "    <tr>\n",
              "      <th>896633</th>\n",
              "      <td>9939223010</td>\n",
              "      <td>BO SHANNON GRAPHIC PRODUCTION</td>\n",
              "      <td>LEE'S SUMMIT</td>\n",
              "      <td>MO</td>\n",
              "      <td>64064</td>\n",
              "      <td>COUNTRY CLUB BANK</td>\n",
              "      <td>KS</td>\n",
              "      <td>60</td>\n",
              "      <td>1</td>\n",
              "      <td>0.0</td>\n",
              "      <td>0</td>\n",
              "      <td>0</td>\n",
              "      <td>1</td>\n",
              "      <td>0</td>\n",
              "      <td>N</td>\n",
              "      <td>Y</td>\n",
              "      <td>1.0</td>\n",
              "      <td>other</td>\n",
              "      <td>60000.0</td>\n",
              "      <td>0.0</td>\n",
              "      <td>0.0</td>\n",
              "      <td>60000.0</td>\n",
              "      <td>48000.0</td>\n",
              "      <td>1997-02-03</td>\n",
              "      <td>1997-06-30</td>\n",
              "      <td>1997.0</td>\n",
              "    </tr>\n",
              "    <tr>\n",
              "      <th>897212</th>\n",
              "      <td>9952683002</td>\n",
              "      <td>CLEAN &amp; DRY LAUNDRY SERVICE</td>\n",
              "      <td>BUTTE</td>\n",
              "      <td>MT</td>\n",
              "      <td>59701</td>\n",
              "      <td>FIRST MONTANA BANK, INC.</td>\n",
              "      <td>MT</td>\n",
              "      <td>240</td>\n",
              "      <td>3</td>\n",
              "      <td>0.0</td>\n",
              "      <td>0</td>\n",
              "      <td>0</td>\n",
              "      <td>1</td>\n",
              "      <td>0</td>\n",
              "      <td>N</td>\n",
              "      <td>N</td>\n",
              "      <td>1.0</td>\n",
              "      <td>Other services</td>\n",
              "      <td>240000.0</td>\n",
              "      <td>0.0</td>\n",
              "      <td>0.0</td>\n",
              "      <td>240000.0</td>\n",
              "      <td>180000.0</td>\n",
              "      <td>1997-02-10</td>\n",
              "      <td>1997-06-30</td>\n",
              "      <td>1997.0</td>\n",
              "    </tr>\n",
              "  </tbody>\n",
              "</table>\n",
              "<p>1021 rows × 26 columns</p>\n",
              "</div>"
            ],
            "text/plain": [
              "        LoanNr_ChkDgt  ... ApprovalFY\n",
              "142        1001235008  ...     1997.0\n",
              "170        1001385007  ...     1997.0\n",
              "185        1001485002  ...     1997.0\n",
              "211        1001685003  ...     1997.0\n",
              "223        1001785009  ...     1998.0\n",
              "...               ...  ...        ...\n",
              "895872     9923063005  ...     1997.0\n",
              "895976     9925253007  ...     1997.0\n",
              "896382     9933633003  ...     1997.0\n",
              "896633     9939223010  ...     1997.0\n",
              "897212     9952683002  ...     1997.0\n",
              "\n",
              "[1021 rows x 26 columns]"
            ]
          },
          "metadata": {
            "tags": []
          },
          "execution_count": 30
        }
      ]
    },
    {
      "cell_type": "markdown",
      "metadata": {
        "id": "CbD8CybktvyM"
      },
      "source": [
        "According to the documentation, the column 'NewExist' takes two values of 1 or 2, so I kept in the file only those columns that take these values."
      ]
    },
    {
      "cell_type": "code",
      "metadata": {
        "id": "W0vVDfb2rhnx"
      },
      "source": [
        "data = data[(data['NewExist'] == 1) | (data['NewExist'] == 2)]"
      ],
      "execution_count": 31,
      "outputs": []
    },
    {
      "cell_type": "code",
      "metadata": {
        "id": "11JwanHUsjih",
        "colab": {
          "base_uri": "https://localhost:8080/"
        },
        "outputId": "63be59d1-518f-4753-dbde-7d9099b65bc0"
      },
      "source": [
        "data['NewExist'] = data['NewExist'].replace({1.0: 0, 2.0:1})\r\n",
        "data.NewExist.value_counts()"
      ],
      "execution_count": 32,
      "outputs": [
        {
          "output_type": "stream",
          "text": [
            "/usr/local/lib/python3.6/dist-packages/ipykernel_launcher.py:1: SettingWithCopyWarning: \n",
            "A value is trying to be set on a copy of a slice from a DataFrame.\n",
            "Try using .loc[row_indexer,col_indexer] = value instead\n",
            "\n",
            "See the caveats in the documentation: https://pandas.pydata.org/pandas-docs/stable/user_guide/indexing.html#returning-a-view-versus-a-copy\n",
            "  \"\"\"Entry point for launching an IPython kernel.\n"
          ],
          "name": "stderr"
        },
        {
          "output_type": "execute_result",
          "data": {
            "text/plain": [
              "0.0    636139\n",
              "1.0    249080\n",
              "Name: NewExist, dtype: int64"
            ]
          },
          "metadata": {
            "tags": []
          },
          "execution_count": 32
        }
      ]
    },
    {
      "cell_type": "code",
      "metadata": {
        "id": "e4SzPbXkt7VT",
        "colab": {
          "base_uri": "https://localhost:8080/"
        },
        "outputId": "7459d47c-a58f-436e-f3c4-e4ea7e7d6936"
      },
      "source": [
        "data['FranchiseCode'].unique()"
      ],
      "execution_count": 33,
      "outputs": [
        {
          "output_type": "execute_result",
          "data": {
            "text/plain": [
              "array([    1,     0, 15100, ...,  2899, 18701, 15930])"
            ]
          },
          "metadata": {
            "tags": []
          },
          "execution_count": 33
        }
      ]
    },
    {
      "cell_type": "markdown",
      "metadata": {
        "id": "danWGDWxxx7V"
      },
      "source": [
        "There is information in the documentation that 'Franchise code, (00000 or 00001) = No franchise.' I created the IsFranchise flag column."
      ]
    },
    {
      "cell_type": "code",
      "metadata": {
        "id": "od76cpKFwACZ",
        "colab": {
          "base_uri": "https://localhost:8080/"
        },
        "outputId": "1698a6ef-98ca-4058-946f-34695e256f3a"
      },
      "source": [
        "data['FranchiseCode'] = np.where((data.FranchiseCode <= 1 ),0,1)\r\n"
      ],
      "execution_count": 34,
      "outputs": [
        {
          "output_type": "stream",
          "text": [
            "/usr/local/lib/python3.6/dist-packages/ipykernel_launcher.py:1: SettingWithCopyWarning: \n",
            "A value is trying to be set on a copy of a slice from a DataFrame.\n",
            "Try using .loc[row_indexer,col_indexer] = value instead\n",
            "\n",
            "See the caveats in the documentation: https://pandas.pydata.org/pandas-docs/stable/user_guide/indexing.html#returning-a-view-versus-a-copy\n",
            "  \"\"\"Entry point for launching an IPython kernel.\n"
          ],
          "name": "stderr"
        }
      ]
    },
    {
      "cell_type": "code",
      "metadata": {
        "id": "k5cx4WIJxAfN",
        "colab": {
          "base_uri": "https://localhost:8080/"
        },
        "outputId": "797dec17-d19f-40f3-b4fd-f66a35878158"
      },
      "source": [
        "data['FranchiseCode'].value_counts()"
      ],
      "execution_count": 35,
      "outputs": [
        {
          "output_type": "execute_result",
          "data": {
            "text/plain": [
              "0    834089\n",
              "1     51130\n",
              "Name: FranchiseCode, dtype: int64"
            ]
          },
          "metadata": {
            "tags": []
          },
          "execution_count": 35
        }
      ]
    },
    {
      "cell_type": "code",
      "metadata": {
        "id": "KCx3pDuhzHOa",
        "colab": {
          "base_uri": "https://localhost:8080/"
        },
        "outputId": "5ff60649-065d-485b-e2ac-c9bb098ebdb7"
      },
      "source": [
        "data['RevLineCr'].value_counts()"
      ],
      "execution_count": 36,
      "outputs": [
        {
          "output_type": "execute_result",
          "data": {
            "text/plain": [
              "N    414512\n",
              "0    257307\n",
              "Y    198236\n",
              "T     15100\n",
              "1        22\n",
              "R        14\n",
              "`        11\n",
              "2         6\n",
              "C         2\n",
              ",         1\n",
              "7         1\n",
              "-         1\n",
              "4         1\n",
              "3         1\n",
              "A         1\n",
              ".         1\n",
              "5         1\n",
              "Q         1\n",
              "Name: RevLineCr, dtype: int64"
            ]
          },
          "metadata": {
            "tags": []
          },
          "execution_count": 36
        }
      ]
    },
    {
      "cell_type": "code",
      "metadata": {
        "id": "coGysA3P0Zxz",
        "colab": {
          "base_uri": "https://localhost:8080/"
        },
        "outputId": "3bb3d2f6-e4cd-45df-9859-432b0e1b3b9d"
      },
      "source": [
        "data['RevLineCr'] = np.where((data['RevLineCr'] != 'N') & (data['RevLineCr'] != 'Y'), np.nan, data.RevLineCr)\r\n",
        "data['LowDoc'] = np.where((data['LowDoc'] != 'N') & (data['LowDoc'] != 'Y'), np.nan, data.RevLineCr)\r\n",
        "print(data['RevLineCr'].unique())\r\n",
        "print(data['LowDoc'].unique())\r\n"
      ],
      "execution_count": 37,
      "outputs": [
        {
          "output_type": "stream",
          "text": [
            "['N' nan 'Y']\n",
            "['N' nan 'Y']\n"
          ],
          "name": "stdout"
        },
        {
          "output_type": "stream",
          "text": [
            "/usr/local/lib/python3.6/dist-packages/ipykernel_launcher.py:1: SettingWithCopyWarning: \n",
            "A value is trying to be set on a copy of a slice from a DataFrame.\n",
            "Try using .loc[row_indexer,col_indexer] = value instead\n",
            "\n",
            "See the caveats in the documentation: https://pandas.pydata.org/pandas-docs/stable/user_guide/indexing.html#returning-a-view-versus-a-copy\n",
            "  \"\"\"Entry point for launching an IPython kernel.\n",
            "/usr/local/lib/python3.6/dist-packages/ipykernel_launcher.py:2: SettingWithCopyWarning: \n",
            "A value is trying to be set on a copy of a slice from a DataFrame.\n",
            "Try using .loc[row_indexer,col_indexer] = value instead\n",
            "\n",
            "See the caveats in the documentation: https://pandas.pydata.org/pandas-docs/stable/user_guide/indexing.html#returning-a-view-versus-a-copy\n",
            "  \n"
          ],
          "name": "stderr"
        }
      ]
    },
    {
      "cell_type": "code",
      "metadata": {
        "id": "HdE2eAw55HSy"
      },
      "source": [
        "data = data.dropna()\r\n"
      ],
      "execution_count": 38,
      "outputs": []
    },
    {
      "cell_type": "code",
      "metadata": {
        "id": "uW0yHVxF9S7Y"
      },
      "source": [
        "data['RevLineCr'] = np.where((data.RevLineCr == 'Y'),1,data.RevLineCr)\r\n",
        "data['RevLineCr'] = np.where((data.RevLineCr == 'N'),0,data.RevLineCr)\r\n",
        "data['LowDoc'] = np.where((data.LowDoc == 'Y'),1,data.LowDoc)\r\n",
        "data['LowDoc'] = np.where((data.LowDoc == 'N'),0,data.LowDoc)"
      ],
      "execution_count": 39,
      "outputs": []
    },
    {
      "cell_type": "code",
      "metadata": {
        "id": "fMo7HmTy5WT6",
        "colab": {
          "base_uri": "https://localhost:8080/"
        },
        "outputId": "60051f91-8e61-4b9f-83c9-bd226adc7110"
      },
      "source": [
        "data.info()"
      ],
      "execution_count": 40,
      "outputs": [
        {
          "output_type": "stream",
          "text": [
            "<class 'pandas.core.frame.DataFrame'>\n",
            "Int64Index: 610187 entries, 0 to 899163\n",
            "Data columns (total 26 columns):\n",
            " #   Column             Non-Null Count   Dtype         \n",
            "---  ------             --------------   -----         \n",
            " 0   LoanNr_ChkDgt      610187 non-null  int64         \n",
            " 1   Name               610187 non-null  object        \n",
            " 2   City               610187 non-null  object        \n",
            " 3   State              610187 non-null  object        \n",
            " 4   Zip                610187 non-null  int64         \n",
            " 5   Bank               610187 non-null  object        \n",
            " 6   BankState          610187 non-null  object        \n",
            " 7   Term               610187 non-null  int64         \n",
            " 8   NoEmp              610187 non-null  int64         \n",
            " 9   NewExist           610187 non-null  float64       \n",
            " 10  CreateJob          610187 non-null  int64         \n",
            " 11  RetainedJob        610187 non-null  int64         \n",
            " 12  FranchiseCode      610187 non-null  int64         \n",
            " 13  UrbanRural         610187 non-null  int64         \n",
            " 14  RevLineCr          610187 non-null  object        \n",
            " 15  LowDoc             610187 non-null  object        \n",
            " 16  good_bad           610187 non-null  float64       \n",
            " 17  Sector_name        610187 non-null  object        \n",
            " 18  DisbursementGross  610187 non-null  float64       \n",
            " 19  BalanceGross       610187 non-null  float64       \n",
            " 20  ChgOffPrinGr       610187 non-null  float64       \n",
            " 21  GrAppv             610187 non-null  float64       \n",
            " 22  SBA_Appv           610187 non-null  float64       \n",
            " 23  ApprovalDate       610187 non-null  datetime64[ns]\n",
            " 24  DisbursementDate   610187 non-null  datetime64[ns]\n",
            " 25  ApprovalFY         610187 non-null  float64       \n",
            "dtypes: datetime64[ns](2), float64(8), int64(8), object(8)\n",
            "memory usage: 125.7+ MB\n"
          ],
          "name": "stdout"
        }
      ]
    },
    {
      "cell_type": "code",
      "metadata": {
        "id": "Eoq3CYdE-DxT",
        "colab": {
          "base_uri": "https://localhost:8080/"
        },
        "outputId": "e5c4b800-2743-48b3-d124-0c383174df6b"
      },
      "source": [
        "data['LowDoc'].unique()"
      ],
      "execution_count": 41,
      "outputs": [
        {
          "output_type": "execute_result",
          "data": {
            "text/plain": [
              "array([0, 1], dtype=object)"
            ]
          },
          "metadata": {
            "tags": []
          },
          "execution_count": 41
        }
      ]
    },
    {
      "cell_type": "code",
      "metadata": {
        "id": "oO1th719-URX"
      },
      "source": [
        "data['LowDoc'] = data['LowDoc'].replace({'N': 0, 'Y':1})\r\n"
      ],
      "execution_count": 42,
      "outputs": []
    },
    {
      "cell_type": "code",
      "metadata": {
        "id": "tB2D3WRX-Wnw",
        "colab": {
          "base_uri": "https://localhost:8080/"
        },
        "outputId": "b431a4f2-342b-4302-b29b-66ad8bfce2c4"
      },
      "source": [
        "data.info()"
      ],
      "execution_count": 43,
      "outputs": [
        {
          "output_type": "stream",
          "text": [
            "<class 'pandas.core.frame.DataFrame'>\n",
            "Int64Index: 610187 entries, 0 to 899163\n",
            "Data columns (total 26 columns):\n",
            " #   Column             Non-Null Count   Dtype         \n",
            "---  ------             --------------   -----         \n",
            " 0   LoanNr_ChkDgt      610187 non-null  int64         \n",
            " 1   Name               610187 non-null  object        \n",
            " 2   City               610187 non-null  object        \n",
            " 3   State              610187 non-null  object        \n",
            " 4   Zip                610187 non-null  int64         \n",
            " 5   Bank               610187 non-null  object        \n",
            " 6   BankState          610187 non-null  object        \n",
            " 7   Term               610187 non-null  int64         \n",
            " 8   NoEmp              610187 non-null  int64         \n",
            " 9   NewExist           610187 non-null  float64       \n",
            " 10  CreateJob          610187 non-null  int64         \n",
            " 11  RetainedJob        610187 non-null  int64         \n",
            " 12  FranchiseCode      610187 non-null  int64         \n",
            " 13  UrbanRural         610187 non-null  int64         \n",
            " 14  RevLineCr          610187 non-null  object        \n",
            " 15  LowDoc             610187 non-null  int64         \n",
            " 16  good_bad           610187 non-null  float64       \n",
            " 17  Sector_name        610187 non-null  object        \n",
            " 18  DisbursementGross  610187 non-null  float64       \n",
            " 19  BalanceGross       610187 non-null  float64       \n",
            " 20  ChgOffPrinGr       610187 non-null  float64       \n",
            " 21  GrAppv             610187 non-null  float64       \n",
            " 22  SBA_Appv           610187 non-null  float64       \n",
            " 23  ApprovalDate       610187 non-null  datetime64[ns]\n",
            " 24  DisbursementDate   610187 non-null  datetime64[ns]\n",
            " 25  ApprovalFY         610187 non-null  float64       \n",
            "dtypes: datetime64[ns](2), float64(8), int64(9), object(7)\n",
            "memory usage: 125.7+ MB\n"
          ],
          "name": "stdout"
        }
      ]
    },
    {
      "cell_type": "markdown",
      "metadata": {
        "id": "nj_I_xAcDBnU"
      },
      "source": [
        "# Modeling"
      ]
    },
    {
      "cell_type": "markdown",
      "metadata": {
        "id": "RB1uoR8AE8Tb"
      },
      "source": [
        "I need to build a classification model in order to predict whether or not a loan will default. Before building models I removed the columns we found to be insignificant like Name and City."
      ]
    },
    {
      "cell_type": "code",
      "metadata": {
        "id": "OBKadAfi-W7v"
      },
      "source": [
        "data = data.drop(['LoanNr_ChkDgt','Name','City','State', 'Bank','Zip','BankState', 'ApprovalDate', 'DisbursementDate', 'GrAppv' ], axis = 1)"
      ],
      "execution_count": 44,
      "outputs": []
    },
    {
      "cell_type": "code",
      "metadata": {
        "id": "ItNKifPCFX36",
        "colab": {
          "base_uri": "https://localhost:8080/",
          "height": 287
        },
        "outputId": "37695ad7-b31b-4e22-f7c3-9007dcfdbb92"
      },
      "source": [
        "data.head()"
      ],
      "execution_count": 45,
      "outputs": [
        {
          "output_type": "execute_result",
          "data": {
            "text/html": [
              "<div>\n",
              "<style scoped>\n",
              "    .dataframe tbody tr th:only-of-type {\n",
              "        vertical-align: middle;\n",
              "    }\n",
              "\n",
              "    .dataframe tbody tr th {\n",
              "        vertical-align: top;\n",
              "    }\n",
              "\n",
              "    .dataframe thead th {\n",
              "        text-align: right;\n",
              "    }\n",
              "</style>\n",
              "<table border=\"1\" class=\"dataframe\">\n",
              "  <thead>\n",
              "    <tr style=\"text-align: right;\">\n",
              "      <th></th>\n",
              "      <th>Term</th>\n",
              "      <th>NoEmp</th>\n",
              "      <th>NewExist</th>\n",
              "      <th>CreateJob</th>\n",
              "      <th>RetainedJob</th>\n",
              "      <th>FranchiseCode</th>\n",
              "      <th>UrbanRural</th>\n",
              "      <th>RevLineCr</th>\n",
              "      <th>LowDoc</th>\n",
              "      <th>good_bad</th>\n",
              "      <th>Sector_name</th>\n",
              "      <th>DisbursementGross</th>\n",
              "      <th>BalanceGross</th>\n",
              "      <th>ChgOffPrinGr</th>\n",
              "      <th>SBA_Appv</th>\n",
              "      <th>ApprovalFY</th>\n",
              "    </tr>\n",
              "  </thead>\n",
              "  <tbody>\n",
              "    <tr>\n",
              "      <th>0</th>\n",
              "      <td>84</td>\n",
              "      <td>4</td>\n",
              "      <td>1.0</td>\n",
              "      <td>0</td>\n",
              "      <td>0</td>\n",
              "      <td>0</td>\n",
              "      <td>0</td>\n",
              "      <td>0</td>\n",
              "      <td>0</td>\n",
              "      <td>1.0</td>\n",
              "      <td>Retail_trade</td>\n",
              "      <td>60000.0</td>\n",
              "      <td>0.0</td>\n",
              "      <td>0.0</td>\n",
              "      <td>48000.0</td>\n",
              "      <td>1997.0</td>\n",
              "    </tr>\n",
              "    <tr>\n",
              "      <th>1</th>\n",
              "      <td>60</td>\n",
              "      <td>2</td>\n",
              "      <td>1.0</td>\n",
              "      <td>0</td>\n",
              "      <td>0</td>\n",
              "      <td>0</td>\n",
              "      <td>0</td>\n",
              "      <td>0</td>\n",
              "      <td>0</td>\n",
              "      <td>1.0</td>\n",
              "      <td>Accommodation and food services</td>\n",
              "      <td>40000.0</td>\n",
              "      <td>0.0</td>\n",
              "      <td>0.0</td>\n",
              "      <td>32000.0</td>\n",
              "      <td>1997.0</td>\n",
              "    </tr>\n",
              "    <tr>\n",
              "      <th>2</th>\n",
              "      <td>180</td>\n",
              "      <td>7</td>\n",
              "      <td>0.0</td>\n",
              "      <td>0</td>\n",
              "      <td>0</td>\n",
              "      <td>0</td>\n",
              "      <td>0</td>\n",
              "      <td>0</td>\n",
              "      <td>0</td>\n",
              "      <td>1.0</td>\n",
              "      <td>Health care and social assistance</td>\n",
              "      <td>287000.0</td>\n",
              "      <td>0.0</td>\n",
              "      <td>0.0</td>\n",
              "      <td>215250.0</td>\n",
              "      <td>1997.0</td>\n",
              "    </tr>\n",
              "    <tr>\n",
              "      <th>3</th>\n",
              "      <td>60</td>\n",
              "      <td>2</td>\n",
              "      <td>0.0</td>\n",
              "      <td>0</td>\n",
              "      <td>0</td>\n",
              "      <td>0</td>\n",
              "      <td>0</td>\n",
              "      <td>0</td>\n",
              "      <td>0</td>\n",
              "      <td>1.0</td>\n",
              "      <td>other</td>\n",
              "      <td>35000.0</td>\n",
              "      <td>0.0</td>\n",
              "      <td>0.0</td>\n",
              "      <td>28000.0</td>\n",
              "      <td>1997.0</td>\n",
              "    </tr>\n",
              "    <tr>\n",
              "      <th>4</th>\n",
              "      <td>240</td>\n",
              "      <td>14</td>\n",
              "      <td>0.0</td>\n",
              "      <td>7</td>\n",
              "      <td>7</td>\n",
              "      <td>0</td>\n",
              "      <td>0</td>\n",
              "      <td>0</td>\n",
              "      <td>0</td>\n",
              "      <td>1.0</td>\n",
              "      <td>other</td>\n",
              "      <td>229000.0</td>\n",
              "      <td>0.0</td>\n",
              "      <td>0.0</td>\n",
              "      <td>229000.0</td>\n",
              "      <td>1997.0</td>\n",
              "    </tr>\n",
              "  </tbody>\n",
              "</table>\n",
              "</div>"
            ],
            "text/plain": [
              "   Term  NoEmp  NewExist  ...  ChgOffPrinGr  SBA_Appv  ApprovalFY\n",
              "0    84      4       1.0  ...           0.0   48000.0      1997.0\n",
              "1    60      2       1.0  ...           0.0   32000.0      1997.0\n",
              "2   180      7       0.0  ...           0.0  215250.0      1997.0\n",
              "3    60      2       0.0  ...           0.0   28000.0      1997.0\n",
              "4   240     14       0.0  ...           0.0  229000.0      1997.0\n",
              "\n",
              "[5 rows x 16 columns]"
            ]
          },
          "metadata": {
            "tags": []
          },
          "execution_count": 45
        }
      ]
    },
    {
      "cell_type": "markdown",
      "metadata": {
        "id": "V6tRhIexI9Qb"
      },
      "source": [
        " I used the pandas get_dummies(df) function for one-hot encoding."
      ]
    },
    {
      "cell_type": "code",
      "metadata": {
        "id": "zIG0K6FsG1tr",
        "colab": {
          "base_uri": "https://localhost:8080/",
          "height": 270
        },
        "outputId": "d384d155-2bc7-4045-9f80-975526586252"
      },
      "source": [
        "data = pd.get_dummies(data)\r\n",
        "\r\n",
        "data.head()"
      ],
      "execution_count": 46,
      "outputs": [
        {
          "output_type": "execute_result",
          "data": {
            "text/html": [
              "<div>\n",
              "<style scoped>\n",
              "    .dataframe tbody tr th:only-of-type {\n",
              "        vertical-align: middle;\n",
              "    }\n",
              "\n",
              "    .dataframe tbody tr th {\n",
              "        vertical-align: top;\n",
              "    }\n",
              "\n",
              "    .dataframe thead th {\n",
              "        text-align: right;\n",
              "    }\n",
              "</style>\n",
              "<table border=\"1\" class=\"dataframe\">\n",
              "  <thead>\n",
              "    <tr style=\"text-align: right;\">\n",
              "      <th></th>\n",
              "      <th>Term</th>\n",
              "      <th>NoEmp</th>\n",
              "      <th>NewExist</th>\n",
              "      <th>CreateJob</th>\n",
              "      <th>RetainedJob</th>\n",
              "      <th>FranchiseCode</th>\n",
              "      <th>UrbanRural</th>\n",
              "      <th>LowDoc</th>\n",
              "      <th>good_bad</th>\n",
              "      <th>DisbursementGross</th>\n",
              "      <th>BalanceGross</th>\n",
              "      <th>ChgOffPrinGr</th>\n",
              "      <th>SBA_Appv</th>\n",
              "      <th>ApprovalFY</th>\n",
              "      <th>RevLineCr_0</th>\n",
              "      <th>RevLineCr_1</th>\n",
              "      <th>Sector_name_Accommodation and food services</th>\n",
              "      <th>Sector_name_Administrative and support and waste management and remediation services</th>\n",
              "      <th>Sector_name_Agriculture/forestry/fishing/hunting</th>\n",
              "      <th>Sector_name_Arts, entertainment, and recreation</th>\n",
              "      <th>Sector_name_Construction</th>\n",
              "      <th>Sector_name_Educational services</th>\n",
              "      <th>Sector_name_Finance/Insurance</th>\n",
              "      <th>Sector_name_Health care and social assistance</th>\n",
              "      <th>Sector_name_Information</th>\n",
              "      <th>Sector_name_Management of companies and enterprises</th>\n",
              "      <th>Sector_name_Manufacturing</th>\n",
              "      <th>Sector_name_Mining/quarrying/oil/ gas extraction</th>\n",
              "      <th>Sector_name_Other services</th>\n",
              "      <th>Sector_name_Professional, scientific, and technical services</th>\n",
              "      <th>Sector_name_Public administration</th>\n",
              "      <th>Sector_name_Real estate and rental/leasing</th>\n",
              "      <th>Sector_name_Retail_trade</th>\n",
              "      <th>Sector_name_Trans/Ware</th>\n",
              "      <th>Sector_name_Utilities</th>\n",
              "      <th>Sector_name_Wholesale_trade</th>\n",
              "      <th>Sector_name_other</th>\n",
              "    </tr>\n",
              "  </thead>\n",
              "  <tbody>\n",
              "    <tr>\n",
              "      <th>0</th>\n",
              "      <td>84</td>\n",
              "      <td>4</td>\n",
              "      <td>1.0</td>\n",
              "      <td>0</td>\n",
              "      <td>0</td>\n",
              "      <td>0</td>\n",
              "      <td>0</td>\n",
              "      <td>0</td>\n",
              "      <td>1.0</td>\n",
              "      <td>60000.0</td>\n",
              "      <td>0.0</td>\n",
              "      <td>0.0</td>\n",
              "      <td>48000.0</td>\n",
              "      <td>1997.0</td>\n",
              "      <td>1</td>\n",
              "      <td>0</td>\n",
              "      <td>0</td>\n",
              "      <td>0</td>\n",
              "      <td>0</td>\n",
              "      <td>0</td>\n",
              "      <td>0</td>\n",
              "      <td>0</td>\n",
              "      <td>0</td>\n",
              "      <td>0</td>\n",
              "      <td>0</td>\n",
              "      <td>0</td>\n",
              "      <td>0</td>\n",
              "      <td>0</td>\n",
              "      <td>0</td>\n",
              "      <td>0</td>\n",
              "      <td>0</td>\n",
              "      <td>0</td>\n",
              "      <td>1</td>\n",
              "      <td>0</td>\n",
              "      <td>0</td>\n",
              "      <td>0</td>\n",
              "      <td>0</td>\n",
              "    </tr>\n",
              "    <tr>\n",
              "      <th>1</th>\n",
              "      <td>60</td>\n",
              "      <td>2</td>\n",
              "      <td>1.0</td>\n",
              "      <td>0</td>\n",
              "      <td>0</td>\n",
              "      <td>0</td>\n",
              "      <td>0</td>\n",
              "      <td>0</td>\n",
              "      <td>1.0</td>\n",
              "      <td>40000.0</td>\n",
              "      <td>0.0</td>\n",
              "      <td>0.0</td>\n",
              "      <td>32000.0</td>\n",
              "      <td>1997.0</td>\n",
              "      <td>1</td>\n",
              "      <td>0</td>\n",
              "      <td>1</td>\n",
              "      <td>0</td>\n",
              "      <td>0</td>\n",
              "      <td>0</td>\n",
              "      <td>0</td>\n",
              "      <td>0</td>\n",
              "      <td>0</td>\n",
              "      <td>0</td>\n",
              "      <td>0</td>\n",
              "      <td>0</td>\n",
              "      <td>0</td>\n",
              "      <td>0</td>\n",
              "      <td>0</td>\n",
              "      <td>0</td>\n",
              "      <td>0</td>\n",
              "      <td>0</td>\n",
              "      <td>0</td>\n",
              "      <td>0</td>\n",
              "      <td>0</td>\n",
              "      <td>0</td>\n",
              "      <td>0</td>\n",
              "    </tr>\n",
              "    <tr>\n",
              "      <th>2</th>\n",
              "      <td>180</td>\n",
              "      <td>7</td>\n",
              "      <td>0.0</td>\n",
              "      <td>0</td>\n",
              "      <td>0</td>\n",
              "      <td>0</td>\n",
              "      <td>0</td>\n",
              "      <td>0</td>\n",
              "      <td>1.0</td>\n",
              "      <td>287000.0</td>\n",
              "      <td>0.0</td>\n",
              "      <td>0.0</td>\n",
              "      <td>215250.0</td>\n",
              "      <td>1997.0</td>\n",
              "      <td>1</td>\n",
              "      <td>0</td>\n",
              "      <td>0</td>\n",
              "      <td>0</td>\n",
              "      <td>0</td>\n",
              "      <td>0</td>\n",
              "      <td>0</td>\n",
              "      <td>0</td>\n",
              "      <td>0</td>\n",
              "      <td>1</td>\n",
              "      <td>0</td>\n",
              "      <td>0</td>\n",
              "      <td>0</td>\n",
              "      <td>0</td>\n",
              "      <td>0</td>\n",
              "      <td>0</td>\n",
              "      <td>0</td>\n",
              "      <td>0</td>\n",
              "      <td>0</td>\n",
              "      <td>0</td>\n",
              "      <td>0</td>\n",
              "      <td>0</td>\n",
              "      <td>0</td>\n",
              "    </tr>\n",
              "    <tr>\n",
              "      <th>3</th>\n",
              "      <td>60</td>\n",
              "      <td>2</td>\n",
              "      <td>0.0</td>\n",
              "      <td>0</td>\n",
              "      <td>0</td>\n",
              "      <td>0</td>\n",
              "      <td>0</td>\n",
              "      <td>0</td>\n",
              "      <td>1.0</td>\n",
              "      <td>35000.0</td>\n",
              "      <td>0.0</td>\n",
              "      <td>0.0</td>\n",
              "      <td>28000.0</td>\n",
              "      <td>1997.0</td>\n",
              "      <td>1</td>\n",
              "      <td>0</td>\n",
              "      <td>0</td>\n",
              "      <td>0</td>\n",
              "      <td>0</td>\n",
              "      <td>0</td>\n",
              "      <td>0</td>\n",
              "      <td>0</td>\n",
              "      <td>0</td>\n",
              "      <td>0</td>\n",
              "      <td>0</td>\n",
              "      <td>0</td>\n",
              "      <td>0</td>\n",
              "      <td>0</td>\n",
              "      <td>0</td>\n",
              "      <td>0</td>\n",
              "      <td>0</td>\n",
              "      <td>0</td>\n",
              "      <td>0</td>\n",
              "      <td>0</td>\n",
              "      <td>0</td>\n",
              "      <td>0</td>\n",
              "      <td>1</td>\n",
              "    </tr>\n",
              "    <tr>\n",
              "      <th>4</th>\n",
              "      <td>240</td>\n",
              "      <td>14</td>\n",
              "      <td>0.0</td>\n",
              "      <td>7</td>\n",
              "      <td>7</td>\n",
              "      <td>0</td>\n",
              "      <td>0</td>\n",
              "      <td>0</td>\n",
              "      <td>1.0</td>\n",
              "      <td>229000.0</td>\n",
              "      <td>0.0</td>\n",
              "      <td>0.0</td>\n",
              "      <td>229000.0</td>\n",
              "      <td>1997.0</td>\n",
              "      <td>1</td>\n",
              "      <td>0</td>\n",
              "      <td>0</td>\n",
              "      <td>0</td>\n",
              "      <td>0</td>\n",
              "      <td>0</td>\n",
              "      <td>0</td>\n",
              "      <td>0</td>\n",
              "      <td>0</td>\n",
              "      <td>0</td>\n",
              "      <td>0</td>\n",
              "      <td>0</td>\n",
              "      <td>0</td>\n",
              "      <td>0</td>\n",
              "      <td>0</td>\n",
              "      <td>0</td>\n",
              "      <td>0</td>\n",
              "      <td>0</td>\n",
              "      <td>0</td>\n",
              "      <td>0</td>\n",
              "      <td>0</td>\n",
              "      <td>0</td>\n",
              "      <td>1</td>\n",
              "    </tr>\n",
              "  </tbody>\n",
              "</table>\n",
              "</div>"
            ],
            "text/plain": [
              "   Term  NoEmp  ...  Sector_name_Wholesale_trade  Sector_name_other\n",
              "0    84      4  ...                            0                  0\n",
              "1    60      2  ...                            0                  0\n",
              "2   180      7  ...                            0                  0\n",
              "3    60      2  ...                            0                  1\n",
              "4   240     14  ...                            0                  1\n",
              "\n",
              "[5 rows x 37 columns]"
            ]
          },
          "metadata": {
            "tags": []
          },
          "execution_count": 46
        }
      ]
    },
    {
      "cell_type": "markdown",
      "metadata": {
        "id": "J8cJLPynLb91"
      },
      "source": [
        "Extract the target column and split the data into train and test."
      ]
    },
    {
      "cell_type": "code",
      "metadata": {
        "id": "nANkmm1sHu1k"
      },
      "source": [
        "y = data['good_bad']\r\n",
        "X = data.drop('good_bad', axis=1)\r\n",
        "\r\n",
        "# scale = StandardScaler()\r\n",
        "# X_scaled = scale.fit_transform(X)\r\n",
        "\r\n"
      ],
      "execution_count": 47,
      "outputs": []
    },
    {
      "cell_type": "code",
      "metadata": {
        "colab": {
          "base_uri": "https://localhost:8080/"
        },
        "id": "t_mYT_cfZ-sZ",
        "outputId": "3abd4412-ffc5-4abe-f198-3a13489771eb"
      },
      "source": [
        "# I check the shape of the data sets.\r\n",
        "X_train, X_test, y_train, y_test = train_test_split(X, y)\r\n",
        "print(f'X_train shape: {X_train.shape}')\r\n",
        "print(f'y_train shape: {y_train.shape}')\r\n",
        "print(f'X_test shape: {X_test.shape}')\r\n",
        "print(f'y_test shape: {y_test.shape}')"
      ],
      "execution_count": 48,
      "outputs": [
        {
          "output_type": "stream",
          "text": [
            "X_train shape: (457640, 36)\n",
            "y_train shape: (457640,)\n",
            "X_test shape: (152547, 36)\n",
            "y_test shape: (152547,)\n"
          ],
          "name": "stdout"
        }
      ]
    },
    {
      "cell_type": "markdown",
      "metadata": {
        "id": "0kKpq78zpyVW"
      },
      "source": [
        "I used LogisticRegression from Scikit-Learn for my first model."
      ]
    },
    {
      "cell_type": "code",
      "metadata": {
        "id": "Rgnf168C8Jsx"
      },
      "source": [
        "lg = LogisticRegression()\r\n",
        "\r\n",
        "lg.fit(X_train, y_train)\r\n",
        "y_log_pred = lg.predict(X_train)"
      ],
      "execution_count": 49,
      "outputs": []
    },
    {
      "cell_type": "markdown",
      "metadata": {
        "id": "vD3Yi116tBht"
      },
      "source": [
        "Then I used the cross-validation function. I do k-fold cross-validation: the training set is randomly divided into 6 separate folds, then the model is trained and assessed 6 times."
      ]
    },
    {
      "cell_type": "code",
      "metadata": {
        "colab": {
          "base_uri": "https://localhost:8080/"
        },
        "id": "eoIoeSCe_2Tp",
        "outputId": "97f19f56-e39e-4802-9dde-3515e057be69"
      },
      "source": [
        "from sklearn.model_selection import cross_val_score\r\n",
        "cross_val_score(lg, X_train, y_train, cv=6, scoring=\"accuracy\")"
      ],
      "execution_count": 50,
      "outputs": [
        {
          "output_type": "execute_result",
          "data": {
            "text/plain": [
              "array([0.98185489, 0.98231376, 0.98233975, 0.98279863, 0.98306085,\n",
              "       0.98168421])"
            ]
          },
          "metadata": {
            "tags": []
          },
          "execution_count": 50
        }
      ]
    },
    {
      "cell_type": "code",
      "metadata": {
        "id": "H-j58Rv0_2Ge"
      },
      "source": [
        "from sklearn.model_selection import cross_val_predict\r\n",
        "y_train_pred = cross_val_predict(lg, X_train, y_train, cv=6)"
      ],
      "execution_count": 51,
      "outputs": []
    },
    {
      "cell_type": "code",
      "metadata": {
        "colab": {
          "base_uri": "https://localhost:8080/"
        },
        "id": "xU_HD_70_16O",
        "outputId": "c45b19e9-8d3e-42ad-e4b4-9e5c8ee22f53"
      },
      "source": [
        "from sklearn.metrics import confusion_matrix\r\n",
        "confusion_matrix(y_train, y_train_pred)"
      ],
      "execution_count": 52,
      "outputs": [
        {
          "output_type": "execute_result",
          "data": {
            "text/plain": [
              "array([[ 76528,   6425],\n",
              "       [  1656, 373031]])"
            ]
          },
          "metadata": {
            "tags": []
          },
          "execution_count": 52
        }
      ]
    },
    {
      "cell_type": "markdown",
      "metadata": {
        "id": "jGCME8gZz_OU"
      },
      "source": [
        "The logistic regression model achieves high levels of accuracy of 98%. Then I adjusted my model with GridSearchCV.\r\n",
        "\r\n"
      ]
    },
    {
      "cell_type": "code",
      "metadata": {
        "colab": {
          "base_uri": "https://localhost:8080/"
        },
        "id": "YadAdgfKCzfb",
        "outputId": "9f446b13-7348-409f-fcad-27dc3c47b1fc"
      },
      "source": [
        "from sklearn.pipeline import Pipeline\r\n",
        "from sklearn.model_selection import GridSearchCV\r\n",
        "pipe=Pipeline([('scaler',StandardScaler()),('clf',LogisticRegression(max_iter=10000))])\r\n",
        "\r\n",
        "param_grid={'clf__C':[0.001,0.01,0.1,1,10,100,1000]}\r\n",
        "\r\n",
        "grid=GridSearchCV(pipe,param_grid,cv=5)\r\n",
        "grid.fit(X_train,y_train)\r\n",
        "print(\"Best parameters: {}\".format(grid.best_params_))\r\n",
        "print(\"Best cross-validation score: {:.2f}\".format(grid.best_score_))"
      ],
      "execution_count": 53,
      "outputs": [
        {
          "output_type": "stream",
          "text": [
            "Best parameters: {'clf__C': 100}\n",
            "Best cross-validation score: 0.98\n"
          ],
          "name": "stdout"
        }
      ]
    },
    {
      "cell_type": "code",
      "metadata": {
        "colab": {
          "base_uri": "https://localhost:8080/"
        },
        "id": "vXkIwQ-eKsxi",
        "outputId": "902e1e7f-1522-489c-eeb3-a6da8888dd8b"
      },
      "source": [
        "from sklearn.model_selection import cross_val_score\r\n",
        "cross_val_score(grid, X_train, y_train, cv=6, scoring=\"accuracy\")"
      ],
      "execution_count": 54,
      "outputs": [
        {
          "output_type": "execute_result",
          "data": {
            "text/plain": [
              "array([0.98181556, 0.98256287, 0.9825233 , 0.98316573, 0.98328373,\n",
              "       0.98216931])"
            ]
          },
          "metadata": {
            "tags": []
          },
          "execution_count": 54
        }
      ]
    },
    {
      "cell_type": "markdown",
      "metadata": {
        "id": "o9BAofff41Pr"
      },
      "source": [
        "After the model regularization, the accuracy is still 98%.\r\n"
      ]
    },
    {
      "cell_type": "markdown",
      "metadata": {
        "id": "PKwe_urD47AD"
      },
      "source": [
        "The second model is the *DecisionTreeClassifier*"
      ]
    },
    {
      "cell_type": "code",
      "metadata": {
        "colab": {
          "base_uri": "https://localhost:8080/"
        },
        "id": "Z58BW5KeEV44",
        "outputId": "2788e81b-3b04-4163-80ba-2b99cf095344"
      },
      "source": [
        "from sklearn.tree import DecisionTreeClassifier\r\n",
        "dtc=DecisionTreeClassifier()\r\n",
        "dtc.fit(X_train,y_train)"
      ],
      "execution_count": 55,
      "outputs": [
        {
          "output_type": "execute_result",
          "data": {
            "text/plain": [
              "DecisionTreeClassifier(ccp_alpha=0.0, class_weight=None, criterion='gini',\n",
              "                       max_depth=None, max_features=None, max_leaf_nodes=None,\n",
              "                       min_impurity_decrease=0.0, min_impurity_split=None,\n",
              "                       min_samples_leaf=1, min_samples_split=2,\n",
              "                       min_weight_fraction_leaf=0.0, presort='deprecated',\n",
              "                       random_state=None, splitter='best')"
            ]
          },
          "metadata": {
            "tags": []
          },
          "execution_count": 55
        }
      ]
    },
    {
      "cell_type": "code",
      "metadata": {
        "colab": {
          "base_uri": "https://localhost:8080/"
        },
        "id": "IU3yy27SEjYC",
        "outputId": "a7976a40-cc7f-4561-f012-f2666b43e316"
      },
      "source": [
        "from sklearn.model_selection import cross_val_score\r\n",
        "cross_val_score(dtc, X_train, y_train, cv=6, scoring=\"accuracy\")"
      ],
      "execution_count": 56,
      "outputs": [
        {
          "output_type": "execute_result",
          "data": {
            "text/plain": [
              "array([0.98820044, 0.98856753, 0.98886893, 0.98864605, 0.98820028,\n",
              "       0.98775451])"
            ]
          },
          "metadata": {
            "tags": []
          },
          "execution_count": 56
        }
      ]
    },
    {
      "cell_type": "markdown",
      "metadata": {
        "id": "NdZgF3eN5v7G"
      },
      "source": [
        "The use of the decision tree model gives us an accuracy similar to the logistic regression model of about 98%. Then I tried adjusting tree parameters such as *max_depth* and *criterion*."
      ]
    },
    {
      "cell_type": "code",
      "metadata": {
        "colab": {
          "base_uri": "https://localhost:8080/"
        },
        "id": "T6K1qsYOEzQn",
        "outputId": "3b8932b9-e82e-4f2d-f752-297be6a476ee"
      },
      "source": [
        "from sklearn.tree import DecisionTreeClassifier\r\n",
        "pipe = Pipeline([('scaler', StandardScaler()), ('dtc', DecisionTreeClassifier())])\r\n",
        "\r\n",
        "param_grid={'dtc__max_depth':[2,3],'dtc__criterion':['gini','entropy']}\r\n",
        "\r\n",
        "grid1 = GridSearchCV(pipe, param_grid, cv=5)\r\n",
        "grid1.fit(X_train, y_train)\r\n",
        "\r\n",
        "print(\"Best parameters: {}\".format(grid1.best_params_))\r\n",
        "print(\"Best cross-validation score: {:.2f}\".format(grid1.best_score_))"
      ],
      "execution_count": 57,
      "outputs": [
        {
          "output_type": "stream",
          "text": [
            "Best parameters: {'dtc__criterion': 'gini', 'dtc__max_depth': 2}\n",
            "Best cross-validation score: 0.99\n"
          ],
          "name": "stdout"
        }
      ]
    },
    {
      "cell_type": "code",
      "metadata": {
        "colab": {
          "base_uri": "https://localhost:8080/"
        },
        "id": "O-dGfRtrIKxK",
        "outputId": "28ca9400-b4d0-4117-e12d-f8ace259795c"
      },
      "source": [
        "from sklearn.model_selection import cross_val_score\r\n",
        "cross_val_score(grid1, X_train, y_train, cv=6, scoring=\"accuracy\")"
      ],
      "execution_count": 58,
      "outputs": [
        {
          "output_type": "execute_result",
          "data": {
            "text/plain": [
              "array([0.99400844, 0.99382489, 0.99419192, 0.99411325, 0.99434925,\n",
              "       0.99382481])"
            ]
          },
          "metadata": {
            "tags": []
          },
          "execution_count": 58
        }
      ]
    },
    {
      "cell_type": "markdown",
      "metadata": {
        "id": "PMfIfoXd6bX7"
      },
      "source": [
        "After adjusting the parameters, the decision tree model achieves an accuracy of approximately 99%."
      ]
    },
    {
      "cell_type": "markdown",
      "metadata": {
        "id": "fY9m--I86tGL"
      },
      "source": [
        "The last model I chose was *RandomForestClassifier*."
      ]
    },
    {
      "cell_type": "code",
      "metadata": {
        "colab": {
          "base_uri": "https://localhost:8080/"
        },
        "id": "dTtkdoTiUDzh",
        "outputId": "de855cc8-23f4-41e6-cf96-5f042d85bce4"
      },
      "source": [
        "from sklearn.ensemble import RandomForestClassifier\r\n",
        "\r\n",
        "forest = RandomForestClassifier()\r\n",
        "forest.fit(X_train,y_train)"
      ],
      "execution_count": 59,
      "outputs": [
        {
          "output_type": "execute_result",
          "data": {
            "text/plain": [
              "RandomForestClassifier(bootstrap=True, ccp_alpha=0.0, class_weight=None,\n",
              "                       criterion='gini', max_depth=None, max_features='auto',\n",
              "                       max_leaf_nodes=None, max_samples=None,\n",
              "                       min_impurity_decrease=0.0, min_impurity_split=None,\n",
              "                       min_samples_leaf=1, min_samples_split=2,\n",
              "                       min_weight_fraction_leaf=0.0, n_estimators=100,\n",
              "                       n_jobs=None, oob_score=False, random_state=None,\n",
              "                       verbose=0, warm_start=False)"
            ]
          },
          "metadata": {
            "tags": []
          },
          "execution_count": 59
        }
      ]
    },
    {
      "cell_type": "code",
      "metadata": {
        "colab": {
          "base_uri": "https://localhost:8080/"
        },
        "id": "bAUudBcaWkHh",
        "outputId": "951b68fc-2a84-485c-83c2-8f72aee2ad9c"
      },
      "source": [
        "from sklearn.model_selection import cross_val_score\r\n",
        "cross_val_score(forest, X_train, y_train, cv=6, scoring=\"accuracy\")"
      ],
      "execution_count": 60,
      "outputs": [
        {
          "output_type": "execute_result",
          "data": {
            "text/plain": [
              "array([0.99415266, 0.99404778, 0.99437547, 0.9942968 , 0.99449346,\n",
              "       0.99394281])"
            ]
          },
          "metadata": {
            "tags": []
          },
          "execution_count": 60
        }
      ]
    },
    {
      "cell_type": "markdown",
      "metadata": {
        "id": "KH4TpQbE8ljf"
      },
      "source": [
        "The use of the RandomForestClassifier gives us an accuracy of about 99%. Then I tried adjusting tree parameters such as *max_depth*, *criterion* and *n_estimators*."
      ]
    },
    {
      "cell_type": "code",
      "metadata": {
        "colab": {
          "base_uri": "https://localhost:8080/"
        },
        "id": "DhWhgS90ZeQx",
        "outputId": "bbd954d3-5d50-4fea-f9e2-a04964594439"
      },
      "source": [
        "from sklearn.ensemble import RandomForestClassifier\r\n",
        "pipe = Pipeline([('scaler', StandardScaler()), ('rfc', RandomForestClassifier())])\r\n",
        "\r\n",
        "param_grid={'rfc__max_depth':[2,3,4],\r\n",
        "            'rfc__criterion':['gini','entropy'],\r\n",
        "            'rfc__n_estimators':[10,30,50]}\r\n",
        "            \r\n",
        "\r\n",
        "grid2 = GridSearchCV(pipe, param_grid, cv=5)\r\n",
        "grid2.fit(X_train, y_train)\r\n",
        "\r\n",
        "print(\"Best parameters: {}\".format(grid2.best_params_))\r\n",
        "print(\"Best cross-validation score: {:.2f}\".format(grid2.best_score_))"
      ],
      "execution_count": 61,
      "outputs": [
        {
          "output_type": "stream",
          "text": [
            "Best parameters: {'rfc__criterion': 'gini', 'rfc__max_depth': 4, 'rfc__n_estimators': 50}\n",
            "Best cross-validation score: 0.99\n"
          ],
          "name": "stdout"
        }
      ]
    },
    {
      "cell_type": "code",
      "metadata": {
        "colab": {
          "base_uri": "https://localhost:8080/"
        },
        "id": "DYlp8tdtca4b",
        "outputId": "ca9b047a-8b1f-40be-c906-fc2840a699c2"
      },
      "source": [
        "from sklearn.model_selection import cross_val_score\r\n",
        "cross_val_score(grid2, X_train, y_train, cv=6, scoring=\"accuracy\")"
      ],
      "execution_count": 62,
      "outputs": [
        {
          "output_type": "execute_result",
          "data": {
            "text/plain": [
              "array([0.99377245, 0.99351024, 0.97831474, 0.99379859, 0.99390348,\n",
              "       0.99327416])"
            ]
          },
          "metadata": {
            "tags": []
          },
          "execution_count": 62
        }
      ]
    },
    {
      "cell_type": "markdown",
      "metadata": {
        "id": "TMMmFmTl8czd"
      },
      "source": [
        "After adjusting the parameters, the RandomForestClassifier achieves an accuracy of approximately 99%."
      ]
    },
    {
      "cell_type": "markdown",
      "metadata": {
        "id": "BkYgPldxXTGs"
      },
      "source": [
        "## Models Comparison"
      ]
    },
    {
      "cell_type": "code",
      "metadata": {
        "id": "DmrjqlRQ0lWM",
        "colab": {
          "base_uri": "https://localhost:8080/"
        },
        "outputId": "4cd21d76-cff7-47a7-b974-ba0bae352ad9"
      },
      "source": [
        "from sklearn import  metrics\r\n",
        "\r\n",
        "\r\n",
        "models = []\r\n",
        "models.append(('clf', grid.best_estimator_))\r\n",
        "models.append(('dtc', grid1.best_estimator_))\r\n",
        "models.append(('rfc', grid2.best_estimator_))\r\n",
        "\r\n",
        "\r\n",
        "precision_score = []\r\n",
        "recall_score = []\r\n",
        "f1_score = []\r\n",
        "accuracy_score = []\r\n",
        "for name, model in models:\r\n",
        "    print(name)\r\n",
        "    print(\"precision_score: {}\".format(metrics.precision_score(y_test, model.predict(X_test), average='weighted') ))\r\n",
        "    print(\"recall_score: {}\".format( metrics.recall_score(y_test, model.predict(X_test), average='weighted') ))\r\n",
        "    print(\"f1_score: {}\".format( metrics.f1_score(y_test, model.predict(X_test), average='weighted') ))\r\n",
        "    print(\"accuracy_score: {}\".format( metrics.accuracy_score(y_test, model.predict(X_test)) ))\r\n",
        "    precision_score.append(metrics.precision_score(y_test, model.predict(X_test), average='weighted'))\r\n",
        "    recall_score.append(metrics.recall_score(y_test, model.predict(X_test), average='weighted'))\r\n",
        "    f1_score.append( metrics.f1_score(y_test, model.predict(X_test), average='weighted'))\r\n",
        "    accuracy_score.append(metrics.accuracy_score(y_test, model.predict(X_test)))\r\n"
      ],
      "execution_count": 63,
      "outputs": [
        {
          "output_type": "stream",
          "text": [
            "clf\n",
            "precision_score: 0.982287582212473\n",
            "recall_score: 0.982339869023973\n",
            "f1_score: 0.9821389131112068\n",
            "accuracy_score: 0.982339869023973\n",
            "dtc\n",
            "precision_score: 0.9938755993153597\n",
            "recall_score: 0.9937461896989125\n",
            "f1_score: 0.9937765637537109\n",
            "accuracy_score: 0.9937461896989125\n",
            "rfc\n",
            "precision_score: 0.993581766633146\n",
            "recall_score: 0.9934643093603939\n",
            "f1_score: 0.9934936867703793\n",
            "accuracy_score: 0.9934643093603939\n"
          ],
          "name": "stdout"
        }
      ]
    },
    {
      "cell_type": "code",
      "metadata": {
        "id": "u6Ew2_7h2Xg-",
        "colab": {
          "base_uri": "https://localhost:8080/",
          "height": 138
        },
        "outputId": "58405319-756b-40c5-8f1d-37eaf0825a74"
      },
      "source": [
        "d = {'precision_score': precision_score, \r\n",
        "     'recall_score': recall_score, \r\n",
        "     'f1_score': f1_score,\r\n",
        "     'accuracy_score' : accuracy_score\r\n",
        "    }\r\n",
        "df = pd.DataFrame(data=d)\r\n",
        "df.insert(loc=0, column='Method', value=['clf','dtc', 'rfc'])\r\n",
        "df"
      ],
      "execution_count": 64,
      "outputs": [
        {
          "output_type": "execute_result",
          "data": {
            "text/html": [
              "<div>\n",
              "<style scoped>\n",
              "    .dataframe tbody tr th:only-of-type {\n",
              "        vertical-align: middle;\n",
              "    }\n",
              "\n",
              "    .dataframe tbody tr th {\n",
              "        vertical-align: top;\n",
              "    }\n",
              "\n",
              "    .dataframe thead th {\n",
              "        text-align: right;\n",
              "    }\n",
              "</style>\n",
              "<table border=\"1\" class=\"dataframe\">\n",
              "  <thead>\n",
              "    <tr style=\"text-align: right;\">\n",
              "      <th></th>\n",
              "      <th>Method</th>\n",
              "      <th>precision_score</th>\n",
              "      <th>recall_score</th>\n",
              "      <th>f1_score</th>\n",
              "      <th>accuracy_score</th>\n",
              "    </tr>\n",
              "  </thead>\n",
              "  <tbody>\n",
              "    <tr>\n",
              "      <th>0</th>\n",
              "      <td>clf</td>\n",
              "      <td>0.982288</td>\n",
              "      <td>0.982340</td>\n",
              "      <td>0.982139</td>\n",
              "      <td>0.982340</td>\n",
              "    </tr>\n",
              "    <tr>\n",
              "      <th>1</th>\n",
              "      <td>dtc</td>\n",
              "      <td>0.993876</td>\n",
              "      <td>0.993746</td>\n",
              "      <td>0.993777</td>\n",
              "      <td>0.993746</td>\n",
              "    </tr>\n",
              "    <tr>\n",
              "      <th>2</th>\n",
              "      <td>rfc</td>\n",
              "      <td>0.993582</td>\n",
              "      <td>0.993464</td>\n",
              "      <td>0.993494</td>\n",
              "      <td>0.993464</td>\n",
              "    </tr>\n",
              "  </tbody>\n",
              "</table>\n",
              "</div>"
            ],
            "text/plain": [
              "  Method  precision_score  recall_score  f1_score  accuracy_score\n",
              "0    clf         0.982288      0.982340  0.982139        0.982340\n",
              "1    dtc         0.993876      0.993746  0.993777        0.993746\n",
              "2    rfc         0.993582      0.993464  0.993494        0.993464"
            ]
          },
          "metadata": {
            "tags": []
          },
          "execution_count": 64
        }
      ]
    },
    {
      "cell_type": "markdown",
      "metadata": {
        "id": "iJuWGcmxBHq8"
      },
      "source": [
        "The linear regression model on the test data shows a similar accuracy to that on the training data at the level of approximately 98%. The same is the case with the other two models, which show a very high level of accuracy of 99%. Also precision, recall and F1 score are on high levels."
      ]
    },
    {
      "cell_type": "markdown",
      "metadata": {
        "id": "w1Xw8rbsGgKp"
      },
      "source": [
        "## Conclusions"
      ]
    },
    {
      "cell_type": "markdown",
      "metadata": {
        "id": "GhNo1RP6FmMe"
      },
      "source": [
        "According to this analysis, the factors that contributes the whether or not a loan goes into default are among others the length of the term of the loan, Number of business employees, whether it is a new company or an existing one, Number of jobs created, Number of jobs retained, whether the company has a franchise, whether it was a revolving loan or not, in which sector the company operates, what was the loan amount."
      ]
    },
    {
      "cell_type": "markdown",
      "metadata": {
        "id": "JwUx_P95GZlp"
      },
      "source": [
        "In my opinion, this analysis should be deepened by the verification of companies' financial statements. Financial ratios such as liquidity, profitability, and the level of equity allow the assessment of the company's financial situation and thus the ability to repay the loan taken."
      ]
    }
  ]
}